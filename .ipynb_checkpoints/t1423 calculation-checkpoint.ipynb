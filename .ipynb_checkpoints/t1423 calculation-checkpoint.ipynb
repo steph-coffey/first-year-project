{
 "cells": [
  {
   "cell_type": "markdown",
   "id": "3d393983",
   "metadata": {},
   "source": [
    "### To see the effect this would have on the light curve params $t_{1,4}$ and $t_{2,3}$, we take the normal expression for these and replace $R_s$ with $R_s(1 + h)$ where $h \\equiv NH_s/R_s$ . Then we Taylor expand them to first order about $h=0$\n",
    "\n",
    "$\\large t_{\\frac{1/4}{2,3}} = \\frac{P}{\\pi}\\frac{1}{a_R}\\sqrt{(1 \\pm p)^2 - b^2}$"
   ]
  },
  {
   "cell_type": "markdown",
   "id": "2d915e11",
   "metadata": {},
   "source": [
    "Using Mathematica, we get \n",
    "\n",
    "$\\large t_{1,4}' = t_{1,4} [1 + \\frac{1+p}{(1+p)^2 - b^2}h]$\n",
    "\n",
    "and\n",
    "\n",
    "$\\large t_{2,3}' = t_{2,3} [1 + \\frac{1-p}{(1-p)^2 - b^2}h]$"
   ]
  },
  {
   "cell_type": "markdown",
   "id": "027c6c80",
   "metadata": {},
   "source": [
    "Estimating this for **HATS-6 b**, using\n",
    "\n",
    "$P = 3.3252725$ days\n",
    "\n",
    "$p \\equiv R_p/R_s = 0.17978$\n",
    "\n",
    "$a_R \\equiv a/R_s = 13.65$\n",
    "\n",
    "$b \\equiv a_R cosi = 0.427$"
   ]
  },
  {
   "cell_type": "code",
   "execution_count": 1,
   "id": "b5ea3138",
   "metadata": {},
   "outputs": [],
   "source": [
    "import numpy as np\n",
    "import matplotlib.pyplot as plt"
   ]
  },
  {
   "cell_type": "code",
   "execution_count": 2,
   "id": "62b4b6d1",
   "metadata": {},
   "outputs": [],
   "source": [
    "def t14(P,p,aR,b):\n",
    "    \n",
    "    t14 = (P / np.pi) * (1/aR) * np.sqrt((1+p)**2 - b**2)\n",
    "    return t14\n",
    "\n",
    "def t23(P,p,aR,b):\n",
    "    \n",
    "    t23 = (P / np.pi) * (1/aR) * np.sqrt((1-p)**2 - b**2)\n",
    "    return t23"
   ]
  },
  {
   "cell_type": "code",
   "execution_count": 3,
   "id": "be96f378",
   "metadata": {},
   "outputs": [],
   "source": [
    "def t14_csre(h,P,p,aR,b):\n",
    "    \n",
    "    og_t14 = t14(P,p,aR,b)\n",
    "    \n",
    "    h_factor = h * (1+p) / ((1+p)**2 - b**2)\n",
    "    \n",
    "    new_t14 = og_t14 * (1 + h_factor)\n",
    "    return og_t14, new_t14\n",
    "\n",
    "def t23_csre(h,P,p,aR,b):\n",
    "    \n",
    "    og_t23 = t23(P,p,aR,b)\n",
    "    \n",
    "    h_factor = h * (1-p) / ((1-p)**2 - b**2)\n",
    "    \n",
    "    new_t23 = og_t23 * (1 + h_factor)\n",
    "    return og_t23, new_t23"
   ]
  },
  {
   "cell_type": "code",
   "execution_count": 4,
   "id": "4e8fbac9",
   "metadata": {},
   "outputs": [],
   "source": [
    "P = 3.3252725 * 24 * 3600 ; p = 0.17978 ; aR = 13.65 ; b = 0.427\n",
    "\n",
    "N = 1\n",
    "H = 3226.140548147887 # m\n",
    "Rs = 3.9655e8 # m\n",
    "h = N * H / Rs"
   ]
  },
  {
   "cell_type": "code",
   "execution_count": 5,
   "id": "c4d5a336",
   "metadata": {},
   "outputs": [],
   "source": [
    "og_t14, new_t14 = t14_csre(h, P, p, aR, b)\n",
    "og_t23, new_t23 = t23_csre(h, P, p, aR, b)"
   ]
  },
  {
   "cell_type": "code",
   "execution_count": 6,
   "id": "3adfc7a0",
   "metadata": {},
   "outputs": [
    {
     "name": "stdout",
     "output_type": "stream",
     "text": [
      "Total transit duration goes from 7368.358 s to 7368.416 s \n",
      "Total flat transit time goes from 4691.890 s to 4691.954 s\n"
     ]
    }
   ],
   "source": [
    "print(f\"Total transit duration goes from {og_t14:.3f} s to {new_t14:.3f} s \")\n",
    "print(f\"Total flat transit time goes from {og_t23:.3f} s to {new_t23:.3f} s\")"
   ]
  },
  {
   "cell_type": "code",
   "execution_count": null,
   "id": "55185608",
   "metadata": {},
   "outputs": [],
   "source": []
  }
 ],
 "metadata": {
  "kernelspec": {
   "display_name": "Python 3 (ipykernel)",
   "language": "python",
   "name": "python3"
  },
  "language_info": {
   "codemirror_mode": {
    "name": "ipython",
    "version": 3
   },
   "file_extension": ".py",
   "mimetype": "text/x-python",
   "name": "python",
   "nbconvert_exporter": "python",
   "pygments_lexer": "ipython3",
   "version": "3.11.5"
  }
 },
 "nbformat": 4,
 "nbformat_minor": 5
}
