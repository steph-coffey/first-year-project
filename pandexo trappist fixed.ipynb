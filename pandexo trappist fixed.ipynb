{
 "cells": [
  {
   "cell_type": "code",
   "execution_count": 1,
   "id": "7864e663-1d0d-44e2-9b14-6989fd0b1044",
   "metadata": {},
   "outputs": [],
   "source": [
    "import numpy as np\n",
    "import matplotlib.pyplot as plt\n",
    "\n",
    "import warnings\n",
    "warnings.filterwarnings('ignore')\n",
    "import pandexo.engine.justdoit as jdi # THIS IS THE HOLY GRAIL OF PANDEXO\n",
    "import os\n",
    "#pip install pandexo.engine --upgrade\n",
    "\n",
    "import pandexo.engine.justplotit as jpi\n",
    "import pickle as pk"
   ]
  },
  {
   "cell_type": "code",
   "execution_count": 2,
   "id": "44a847b2-f3af-4637-8f43-acf11f0700b9",
   "metadata": {},
   "outputs": [
    {
     "name": "stdout",
     "output_type": "stream",
     "text": [
      "/Users/coffey/Downloads/kipping/data/pandeia\n",
      "3.0\n"
     ]
    }
   ],
   "source": [
    "print(os.environ['pandeia_refdata'] )\n",
    "import pandeia.engine\n",
    "print(pandeia.engine.__version__)"
   ]
  },
  {
   "cell_type": "markdown",
   "id": "598d7cff-e644-4311-893b-566d4996fb53",
   "metadata": {},
   "source": [
    "### Loading blank exo dictionary"
   ]
  },
  {
   "cell_type": "code",
   "execution_count": 3,
   "id": "e8ff346e-6aca-4570-a5d6-6fc5f89ca735",
   "metadata": {},
   "outputs": [
    {
     "name": "stdout",
     "output_type": "stream",
     "text": [
      "dict_keys(['calculation', 'url', 'url_err', 'star', 'planet', 'observation'])\n"
     ]
    }
   ],
   "source": [
    "exo_dict = jdi.load_exo_dict()\n",
    "print(exo_dict.keys())\n",
    "#print(exo_dict['star']['w_unit'])"
   ]
  },
  {
   "cell_type": "markdown",
   "id": "77df31c0-2928-41d0-bc84-07411c01ca2f",
   "metadata": {},
   "source": [
    "### Edit planet and star properties"
   ]
  },
  {
   "cell_type": "code",
   "execution_count": 4,
   "id": "9de5130a-a08c-494f-b943-2abf853e606e",
   "metadata": {},
   "outputs": [],
   "source": [
    "exo_dict['observation']['sat_level'] = 100    #saturation level in percent of full well \n",
    "exo_dict['observation']['sat_unit'] = '%'\n",
    "exo_dict['observation']['noccultations'] = 1 #number of transits \n",
    "exo_dict['observation']['R'] = 100           #fixed binning. I usually suggest ZERO binning.. you can always bin later \n",
    "                                             #without having to redo the calcualtion\n",
    "exo_dict['observation']['baseline_unit'] = 'total'  #Defines how you specify out of transit observing time\n",
    "                                                    #'frac' : fraction of time in transit versus out = in/out \n",
    "                                                    #'total' : total observing time (seconds)\n",
    "exo_dict['observation']['baseline'] = 10.0*60.0*60.0 #in accordance with what was specified above (total observing time)\n",
    "\n",
    "exo_dict['observation']['noise_floor'] = 14  #this can be a fixed level or it can be a filepath \n",
    "                                             #to a wavelength dependent noise floor solution (units are ppm)"
   ]
  },
  {
   "cell_type": "code",
   "execution_count": 5,
   "id": "eb08f3f2-6c91-4622-b683-0253c89f55d3",
   "metadata": {},
   "outputs": [],
   "source": [
    "#OPTION 1 get start from database\n",
    "exo_dict['star']['type'] = 'phoenix'        #phoenix or user (if you have your own)\n",
    "exo_dict['star']['mag'] = 11.354            #magnitude of the system\n",
    "exo_dict['star']['ref_wave'] = 1.25         #For J mag = 1.25, H = 1.6, K =2.22.. etc (all in micron)\n",
    "exo_dict['star']['temp'] = 2566             #in K \n",
    "exo_dict['star']['metal'] = -1.4            # as log Fe/H\n",
    "exo_dict['star']['logg'] = 5.276            #log surface gravity cgs"
   ]
  },
  {
   "cell_type": "code",
   "execution_count": 6,
   "id": "9e599e6d-1c7b-4853-a8a0-adf1f5c60f7a",
   "metadata": {},
   "outputs": [],
   "source": [
    "exo_dict['planet']['type'] ='user'                       #tells pandexo you are uploading your own spectrum\n",
    "exo_dict['planet']['exopath'] = 'trappist_hacked_spectrum.txt'\n",
    "\n",
    "#or as a dictionary\n",
    "#exo_dict['planet']['exopath'] = {'f':spectrum, 'w':wavelength}\n",
    "\n",
    "exo_dict['planet']['w_unit'] = 'um'                      #other options include \"um\",\"nm\" ,\"Angs\", \"sec\" (for phase curves)\n",
    "exo_dict['planet']['f_unit'] = 'rp^2/r*^2'               #other options are 'fp/f*' \n",
    "exo_dict['planet']['transit_duration'] = 0.6*60.0*60.0   #transit duration \n",
    "exo_dict['planet']['td_unit'] = 's'                      #Any unit of time in accordance with astropy.units can be added"
   ]
  },
  {
   "cell_type": "code",
   "execution_count": 7,
   "id": "952164c9-c850-4012-93bf-575184543020",
   "metadata": {},
   "outputs": [
    {
     "name": "stdout",
     "output_type": "stream",
     "text": [
      "Running Single Case for: NIRSpec Prism\n",
      "Optimization Reqested: Computing Duty Cycle\n",
      "Finished Duty Cycle Calc\n",
      "Starting Out of Transit Simulation\n",
      "End out of Transit\n",
      "Starting In Transit Simulation\n",
      "End In Transit\n"
     ]
    }
   ],
   "source": [
    "result = jdi.run_pandexo(exo_dict, ['NIRSpec Prism'], output_file='trappist_hacked_pandexo.p')"
   ]
  },
  {
   "cell_type": "markdown",
   "id": "7bc2a6f7-916b-4bc6-8429-dd448e2fbba4",
   "metadata": {},
   "source": [
    "### Plotting results"
   ]
  },
  {
   "cell_type": "code",
   "execution_count": 8,
   "id": "bc1ee29c-9a88-4b8e-afb4-a79345067924",
   "metadata": {},
   "outputs": [
    {
     "data": {
      "text/html": [
       "<style>\n",
       "        .bk-notebook-logo {\n",
       "            display: block;\n",
       "            width: 20px;\n",
       "            height: 20px;\n",
       "            background-image: url(data:image/png;base64,iVBORw0KGgoAAAANSUhEUgAAABQAAAAUCAYAAACNiR0NAAAABHNCSVQICAgIfAhkiAAAAAlwSFlzAAALEgAACxIB0t1+/AAAABx0RVh0U29mdHdhcmUAQWRvYmUgRmlyZXdvcmtzIENTNui8sowAAAOkSURBVDiNjZRtaJVlGMd/1/08zzln5zjP1LWcU9N0NkN8m2CYjpgQYQXqSs0I84OLIC0hkEKoPtiH3gmKoiJDU7QpLgoLjLIQCpEsNJ1vqUOdO7ppbuec5+V+rj4ctwzd8IIbbi6u+8f1539dt3A78eXC7QizUF7gyV1fD1Yqg4JWz84yffhm0qkFqBogB9rM8tZdtwVsPUhWhGcFJngGeWrPzHm5oaMmkfEg1usvLFyc8jLRqDOMru7AyC8saQr7GG7f5fvDeH7Ej8CM66nIF+8yngt6HWaKh7k49Soy9nXurCi1o3qUbS3zWfrYeQDTB/Qj6kX6Ybhw4B+bOYoLKCC9H3Nu/leUTZ1JdRWkkn2ldcCamzrcf47KKXdAJllSlxAOkRgyHsGC/zRday5Qld9DyoM4/q/rUoy/CXh3jzOu3bHUVZeU+DEn8FInkPBFlu3+nW3Nw0mk6vCDiWg8CeJaxEwuHS3+z5RgY+YBR6V1Z1nxSOfoaPa4LASWxxdNp+VWTk7+4vzaou8v8PN+xo+KY2xsw6une2frhw05CTYOmQvsEhjhWjn0bmXPjpE1+kplmmkP3suftwTubK9Vq22qKmrBhpY4jvd5afdRA3wGjFAgcnTK2s4hY0/GPNIb0nErGMCRxWOOX64Z8RAC4oCXdklmEvcL8o0BfkNK4lUg9HTl+oPlQxdNo3Mg4Nv175e/1LDGzZen30MEjRUtmXSfiTVu1kK8W4txyV6BMKlbgk3lMwYCiusNy9fVfvvwMxv8Ynl6vxoByANLTWplvuj/nF9m2+PDtt1eiHPBr1oIfhCChQMBw6Aw0UulqTKZdfVvfG7VcfIqLG9bcldL/+pdWTLxLUy8Qq38heUIjh4XlzZxzQm19lLFlr8vdQ97rjZVOLf8nclzckbcD4wxXMidpX30sFd37Fv/GtwwhzhxGVAprjbg0gCAEeIgwCZyTV2Z1REEW8O4py0wsjeloKoMr6iCY6dP92H6Vw/oTyICIthibxjm/DfN9lVz8IqtqKYLUXfoKVMVQVVJOElGjrnnUt9T9wbgp8AyYKaGlqingHZU/uG2NTZSVqwHQTWkx9hxjkpWDaCg6Ckj5qebgBVbT3V3NNXMSiWSDdGV3hrtzla7J+duwPOToIg42ChPQOQjspnSlp1V+Gjdged7+8UN5CRAV7a5EdFNwCjEaBR27b3W890TE7g24NAP/mMDXRWrGoFPQI9ls/MWO2dWFAar/xcOIImbbpA3zgAAAABJRU5ErkJggg==);\n",
       "        }\n",
       "    </style>\n",
       "    <div>\n",
       "        <a href=\"https://bokeh.org\" target=\"_blank\" class=\"bk-notebook-logo\"></a>\n",
       "        <span id=\"p1001\">Loading BokehJS ...</span>\n",
       "    </div>\n"
      ]
     },
     "metadata": {},
     "output_type": "display_data"
    },
    {
     "data": {
      "application/javascript": [
       "(function(root) {\n",
       "  function now() {\n",
       "    return new Date();\n",
       "  }\n",
       "\n",
       "  const force = true;\n",
       "\n",
       "  if (typeof root._bokeh_onload_callbacks === \"undefined\" || force === true) {\n",
       "    root._bokeh_onload_callbacks = [];\n",
       "    root._bokeh_is_loading = undefined;\n",
       "  }\n",
       "\n",
       "const JS_MIME_TYPE = 'application/javascript';\n",
       "  const HTML_MIME_TYPE = 'text/html';\n",
       "  const EXEC_MIME_TYPE = 'application/vnd.bokehjs_exec.v0+json';\n",
       "  const CLASS_NAME = 'output_bokeh rendered_html';\n",
       "\n",
       "  /**\n",
       "   * Render data to the DOM node\n",
       "   */\n",
       "  function render(props, node) {\n",
       "    const script = document.createElement(\"script\");\n",
       "    node.appendChild(script);\n",
       "  }\n",
       "\n",
       "  /**\n",
       "   * Handle when an output is cleared or removed\n",
       "   */\n",
       "  function handleClearOutput(event, handle) {\n",
       "    const cell = handle.cell;\n",
       "\n",
       "    const id = cell.output_area._bokeh_element_id;\n",
       "    const server_id = cell.output_area._bokeh_server_id;\n",
       "    // Clean up Bokeh references\n",
       "    if (id != null && id in Bokeh.index) {\n",
       "      Bokeh.index[id].model.document.clear();\n",
       "      delete Bokeh.index[id];\n",
       "    }\n",
       "\n",
       "    if (server_id !== undefined) {\n",
       "      // Clean up Bokeh references\n",
       "      const cmd_clean = \"from bokeh.io.state import curstate; print(curstate().uuid_to_server['\" + server_id + \"'].get_sessions()[0].document.roots[0]._id)\";\n",
       "      cell.notebook.kernel.execute(cmd_clean, {\n",
       "        iopub: {\n",
       "          output: function(msg) {\n",
       "            const id = msg.content.text.trim();\n",
       "            if (id in Bokeh.index) {\n",
       "              Bokeh.index[id].model.document.clear();\n",
       "              delete Bokeh.index[id];\n",
       "            }\n",
       "          }\n",
       "        }\n",
       "      });\n",
       "      // Destroy server and session\n",
       "      const cmd_destroy = \"import bokeh.io.notebook as ion; ion.destroy_server('\" + server_id + \"')\";\n",
       "      cell.notebook.kernel.execute(cmd_destroy);\n",
       "    }\n",
       "  }\n",
       "\n",
       "  /**\n",
       "   * Handle when a new output is added\n",
       "   */\n",
       "  function handleAddOutput(event, handle) {\n",
       "    const output_area = handle.output_area;\n",
       "    const output = handle.output;\n",
       "\n",
       "    // limit handleAddOutput to display_data with EXEC_MIME_TYPE content only\n",
       "    if ((output.output_type != \"display_data\") || (!Object.prototype.hasOwnProperty.call(output.data, EXEC_MIME_TYPE))) {\n",
       "      return\n",
       "    }\n",
       "\n",
       "    const toinsert = output_area.element.find(\".\" + CLASS_NAME.split(' ')[0]);\n",
       "\n",
       "    if (output.metadata[EXEC_MIME_TYPE][\"id\"] !== undefined) {\n",
       "      toinsert[toinsert.length - 1].firstChild.textContent = output.data[JS_MIME_TYPE];\n",
       "      // store reference to embed id on output_area\n",
       "      output_area._bokeh_element_id = output.metadata[EXEC_MIME_TYPE][\"id\"];\n",
       "    }\n",
       "    if (output.metadata[EXEC_MIME_TYPE][\"server_id\"] !== undefined) {\n",
       "      const bk_div = document.createElement(\"div\");\n",
       "      bk_div.innerHTML = output.data[HTML_MIME_TYPE];\n",
       "      const script_attrs = bk_div.children[0].attributes;\n",
       "      for (let i = 0; i < script_attrs.length; i++) {\n",
       "        toinsert[toinsert.length - 1].firstChild.setAttribute(script_attrs[i].name, script_attrs[i].value);\n",
       "        toinsert[toinsert.length - 1].firstChild.textContent = bk_div.children[0].textContent\n",
       "      }\n",
       "      // store reference to server id on output_area\n",
       "      output_area._bokeh_server_id = output.metadata[EXEC_MIME_TYPE][\"server_id\"];\n",
       "    }\n",
       "  }\n",
       "\n",
       "  function register_renderer(events, OutputArea) {\n",
       "\n",
       "    function append_mime(data, metadata, element) {\n",
       "      // create a DOM node to render to\n",
       "      const toinsert = this.create_output_subarea(\n",
       "        metadata,\n",
       "        CLASS_NAME,\n",
       "        EXEC_MIME_TYPE\n",
       "      );\n",
       "      this.keyboard_manager.register_events(toinsert);\n",
       "      // Render to node\n",
       "      const props = {data: data, metadata: metadata[EXEC_MIME_TYPE]};\n",
       "      render(props, toinsert[toinsert.length - 1]);\n",
       "      element.append(toinsert);\n",
       "      return toinsert\n",
       "    }\n",
       "\n",
       "    /* Handle when an output is cleared or removed */\n",
       "    events.on('clear_output.CodeCell', handleClearOutput);\n",
       "    events.on('delete.Cell', handleClearOutput);\n",
       "\n",
       "    /* Handle when a new output is added */\n",
       "    events.on('output_added.OutputArea', handleAddOutput);\n",
       "\n",
       "    /**\n",
       "     * Register the mime type and append_mime function with output_area\n",
       "     */\n",
       "    OutputArea.prototype.register_mime_type(EXEC_MIME_TYPE, append_mime, {\n",
       "      /* Is output safe? */\n",
       "      safe: true,\n",
       "      /* Index of renderer in `output_area.display_order` */\n",
       "      index: 0\n",
       "    });\n",
       "  }\n",
       "\n",
       "  // register the mime type if in Jupyter Notebook environment and previously unregistered\n",
       "  if (root.Jupyter !== undefined) {\n",
       "    const events = require('base/js/events');\n",
       "    const OutputArea = require('notebook/js/outputarea').OutputArea;\n",
       "\n",
       "    if (OutputArea.prototype.mime_types().indexOf(EXEC_MIME_TYPE) == -1) {\n",
       "      register_renderer(events, OutputArea);\n",
       "    }\n",
       "  }\n",
       "  if (typeof (root._bokeh_timeout) === \"undefined\" || force === true) {\n",
       "    root._bokeh_timeout = Date.now() + 5000;\n",
       "    root._bokeh_failed_load = false;\n",
       "  }\n",
       "\n",
       "  const NB_LOAD_WARNING = {'data': {'text/html':\n",
       "     \"<div style='background-color: #fdd'>\\n\"+\n",
       "     \"<p>\\n\"+\n",
       "     \"BokehJS does not appear to have successfully loaded. If loading BokehJS from CDN, this \\n\"+\n",
       "     \"may be due to a slow or bad network connection. Possible fixes:\\n\"+\n",
       "     \"</p>\\n\"+\n",
       "     \"<ul>\\n\"+\n",
       "     \"<li>re-rerun `output_notebook()` to attempt to load from CDN again, or</li>\\n\"+\n",
       "     \"<li>use INLINE resources instead, as so:</li>\\n\"+\n",
       "     \"</ul>\\n\"+\n",
       "     \"<code>\\n\"+\n",
       "     \"from bokeh.resources import INLINE\\n\"+\n",
       "     \"output_notebook(resources=INLINE)\\n\"+\n",
       "     \"</code>\\n\"+\n",
       "     \"</div>\"}};\n",
       "\n",
       "  function display_loaded() {\n",
       "    const el = document.getElementById(\"p1001\");\n",
       "    if (el != null) {\n",
       "      el.textContent = \"BokehJS is loading...\";\n",
       "    }\n",
       "    if (root.Bokeh !== undefined) {\n",
       "      if (el != null) {\n",
       "        el.textContent = \"BokehJS \" + root.Bokeh.version + \" successfully loaded.\";\n",
       "      }\n",
       "    } else if (Date.now() < root._bokeh_timeout) {\n",
       "      setTimeout(display_loaded, 100)\n",
       "    }\n",
       "  }\n",
       "\n",
       "  function run_callbacks() {\n",
       "    try {\n",
       "      root._bokeh_onload_callbacks.forEach(function(callback) {\n",
       "        if (callback != null)\n",
       "          callback();\n",
       "      });\n",
       "    } finally {\n",
       "      delete root._bokeh_onload_callbacks\n",
       "    }\n",
       "    console.debug(\"Bokeh: all callbacks have finished\");\n",
       "  }\n",
       "\n",
       "  function load_libs(css_urls, js_urls, callback) {\n",
       "    if (css_urls == null) css_urls = [];\n",
       "    if (js_urls == null) js_urls = [];\n",
       "\n",
       "    root._bokeh_onload_callbacks.push(callback);\n",
       "    if (root._bokeh_is_loading > 0) {\n",
       "      console.debug(\"Bokeh: BokehJS is being loaded, scheduling callback at\", now());\n",
       "      return null;\n",
       "    }\n",
       "    if (js_urls == null || js_urls.length === 0) {\n",
       "      run_callbacks();\n",
       "      return null;\n",
       "    }\n",
       "    console.debug(\"Bokeh: BokehJS not loaded, scheduling load and callback at\", now());\n",
       "    root._bokeh_is_loading = css_urls.length + js_urls.length;\n",
       "\n",
       "    function on_load() {\n",
       "      root._bokeh_is_loading--;\n",
       "      if (root._bokeh_is_loading === 0) {\n",
       "        console.debug(\"Bokeh: all BokehJS libraries/stylesheets loaded\");\n",
       "        run_callbacks()\n",
       "      }\n",
       "    }\n",
       "\n",
       "    function on_error(url) {\n",
       "      console.error(\"failed to load \" + url);\n",
       "    }\n",
       "\n",
       "    for (let i = 0; i < css_urls.length; i++) {\n",
       "      const url = css_urls[i];\n",
       "      const element = document.createElement(\"link\");\n",
       "      element.onload = on_load;\n",
       "      element.onerror = on_error.bind(null, url);\n",
       "      element.rel = \"stylesheet\";\n",
       "      element.type = \"text/css\";\n",
       "      element.href = url;\n",
       "      console.debug(\"Bokeh: injecting link tag for BokehJS stylesheet: \", url);\n",
       "      document.body.appendChild(element);\n",
       "    }\n",
       "\n",
       "    for (let i = 0; i < js_urls.length; i++) {\n",
       "      const url = js_urls[i];\n",
       "      const element = document.createElement('script');\n",
       "      element.onload = on_load;\n",
       "      element.onerror = on_error.bind(null, url);\n",
       "      element.async = false;\n",
       "      element.src = url;\n",
       "      console.debug(\"Bokeh: injecting script tag for BokehJS library: \", url);\n",
       "      document.head.appendChild(element);\n",
       "    }\n",
       "  };\n",
       "\n",
       "  function inject_raw_css(css) {\n",
       "    const element = document.createElement(\"style\");\n",
       "    element.appendChild(document.createTextNode(css));\n",
       "    document.body.appendChild(element);\n",
       "  }\n",
       "\n",
       "  const js_urls = [\"https://cdn.bokeh.org/bokeh/release/bokeh-3.0.2.min.js\", \"https://cdn.bokeh.org/bokeh/release/bokeh-gl-3.0.2.min.js\", \"https://cdn.bokeh.org/bokeh/release/bokeh-widgets-3.0.2.min.js\", \"https://cdn.bokeh.org/bokeh/release/bokeh-tables-3.0.2.min.js\", \"https://cdn.bokeh.org/bokeh/release/bokeh-mathjax-3.0.2.min.js\"];\n",
       "  const css_urls = [];\n",
       "\n",
       "  const inline_js = [    function(Bokeh) {\n",
       "      Bokeh.set_log_level(\"info\");\n",
       "    },\n",
       "function(Bokeh) {\n",
       "    }\n",
       "  ];\n",
       "\n",
       "  function run_inline_js() {\n",
       "    if (root.Bokeh !== undefined || force === true) {\n",
       "          for (let i = 0; i < inline_js.length; i++) {\n",
       "      inline_js[i].call(root, root.Bokeh);\n",
       "    }\n",
       "if (force === true) {\n",
       "        display_loaded();\n",
       "      }} else if (Date.now() < root._bokeh_timeout) {\n",
       "      setTimeout(run_inline_js, 100);\n",
       "    } else if (!root._bokeh_failed_load) {\n",
       "      console.log(\"Bokeh: BokehJS failed to load within specified timeout.\");\n",
       "      root._bokeh_failed_load = true;\n",
       "    } else if (force !== true) {\n",
       "      const cell = $(document.getElementById(\"p1001\")).parents('.cell').data().cell;\n",
       "      cell.output_area.append_execute_result(NB_LOAD_WARNING)\n",
       "    }\n",
       "  }\n",
       "\n",
       "  if (root._bokeh_is_loading === 0) {\n",
       "    console.debug(\"Bokeh: BokehJS loaded, going straight to plotting\");\n",
       "    run_inline_js();\n",
       "  } else {\n",
       "    load_libs(css_urls, js_urls, function() {\n",
       "      console.debug(\"Bokeh: BokehJS plotting callback run at\", now());\n",
       "      run_inline_js();\n",
       "    });\n",
       "  }\n",
       "}(window));"
      ],
      "application/vnd.bokehjs_load.v0+json": "(function(root) {\n  function now() {\n    return new Date();\n  }\n\n  const force = true;\n\n  if (typeof root._bokeh_onload_callbacks === \"undefined\" || force === true) {\n    root._bokeh_onload_callbacks = [];\n    root._bokeh_is_loading = undefined;\n  }\n\n\n  if (typeof (root._bokeh_timeout) === \"undefined\" || force === true) {\n    root._bokeh_timeout = Date.now() + 5000;\n    root._bokeh_failed_load = false;\n  }\n\n  const NB_LOAD_WARNING = {'data': {'text/html':\n     \"<div style='background-color: #fdd'>\\n\"+\n     \"<p>\\n\"+\n     \"BokehJS does not appear to have successfully loaded. If loading BokehJS from CDN, this \\n\"+\n     \"may be due to a slow or bad network connection. Possible fixes:\\n\"+\n     \"</p>\\n\"+\n     \"<ul>\\n\"+\n     \"<li>re-rerun `output_notebook()` to attempt to load from CDN again, or</li>\\n\"+\n     \"<li>use INLINE resources instead, as so:</li>\\n\"+\n     \"</ul>\\n\"+\n     \"<code>\\n\"+\n     \"from bokeh.resources import INLINE\\n\"+\n     \"output_notebook(resources=INLINE)\\n\"+\n     \"</code>\\n\"+\n     \"</div>\"}};\n\n  function display_loaded() {\n    const el = document.getElementById(\"p1001\");\n    if (el != null) {\n      el.textContent = \"BokehJS is loading...\";\n    }\n    if (root.Bokeh !== undefined) {\n      if (el != null) {\n        el.textContent = \"BokehJS \" + root.Bokeh.version + \" successfully loaded.\";\n      }\n    } else if (Date.now() < root._bokeh_timeout) {\n      setTimeout(display_loaded, 100)\n    }\n  }\n\n  function run_callbacks() {\n    try {\n      root._bokeh_onload_callbacks.forEach(function(callback) {\n        if (callback != null)\n          callback();\n      });\n    } finally {\n      delete root._bokeh_onload_callbacks\n    }\n    console.debug(\"Bokeh: all callbacks have finished\");\n  }\n\n  function load_libs(css_urls, js_urls, callback) {\n    if (css_urls == null) css_urls = [];\n    if (js_urls == null) js_urls = [];\n\n    root._bokeh_onload_callbacks.push(callback);\n    if (root._bokeh_is_loading > 0) {\n      console.debug(\"Bokeh: BokehJS is being loaded, scheduling callback at\", now());\n      return null;\n    }\n    if (js_urls == null || js_urls.length === 0) {\n      run_callbacks();\n      return null;\n    }\n    console.debug(\"Bokeh: BokehJS not loaded, scheduling load and callback at\", now());\n    root._bokeh_is_loading = css_urls.length + js_urls.length;\n\n    function on_load() {\n      root._bokeh_is_loading--;\n      if (root._bokeh_is_loading === 0) {\n        console.debug(\"Bokeh: all BokehJS libraries/stylesheets loaded\");\n        run_callbacks()\n      }\n    }\n\n    function on_error(url) {\n      console.error(\"failed to load \" + url);\n    }\n\n    for (let i = 0; i < css_urls.length; i++) {\n      const url = css_urls[i];\n      const element = document.createElement(\"link\");\n      element.onload = on_load;\n      element.onerror = on_error.bind(null, url);\n      element.rel = \"stylesheet\";\n      element.type = \"text/css\";\n      element.href = url;\n      console.debug(\"Bokeh: injecting link tag for BokehJS stylesheet: \", url);\n      document.body.appendChild(element);\n    }\n\n    for (let i = 0; i < js_urls.length; i++) {\n      const url = js_urls[i];\n      const element = document.createElement('script');\n      element.onload = on_load;\n      element.onerror = on_error.bind(null, url);\n      element.async = false;\n      element.src = url;\n      console.debug(\"Bokeh: injecting script tag for BokehJS library: \", url);\n      document.head.appendChild(element);\n    }\n  };\n\n  function inject_raw_css(css) {\n    const element = document.createElement(\"style\");\n    element.appendChild(document.createTextNode(css));\n    document.body.appendChild(element);\n  }\n\n  const js_urls = [\"https://cdn.bokeh.org/bokeh/release/bokeh-3.0.2.min.js\", \"https://cdn.bokeh.org/bokeh/release/bokeh-gl-3.0.2.min.js\", \"https://cdn.bokeh.org/bokeh/release/bokeh-widgets-3.0.2.min.js\", \"https://cdn.bokeh.org/bokeh/release/bokeh-tables-3.0.2.min.js\", \"https://cdn.bokeh.org/bokeh/release/bokeh-mathjax-3.0.2.min.js\"];\n  const css_urls = [];\n\n  const inline_js = [    function(Bokeh) {\n      Bokeh.set_log_level(\"info\");\n    },\nfunction(Bokeh) {\n    }\n  ];\n\n  function run_inline_js() {\n    if (root.Bokeh !== undefined || force === true) {\n          for (let i = 0; i < inline_js.length; i++) {\n      inline_js[i].call(root, root.Bokeh);\n    }\nif (force === true) {\n        display_loaded();\n      }} else if (Date.now() < root._bokeh_timeout) {\n      setTimeout(run_inline_js, 100);\n    } else if (!root._bokeh_failed_load) {\n      console.log(\"Bokeh: BokehJS failed to load within specified timeout.\");\n      root._bokeh_failed_load = true;\n    } else if (force !== true) {\n      const cell = $(document.getElementById(\"p1001\")).parents('.cell').data().cell;\n      cell.output_area.append_execute_result(NB_LOAD_WARNING)\n    }\n  }\n\n  if (root._bokeh_is_loading === 0) {\n    console.debug(\"Bokeh: BokehJS loaded, going straight to plotting\");\n    run_inline_js();\n  } else {\n    load_libs(css_urls, js_urls, function() {\n      console.debug(\"Bokeh: BokehJS plotting callback run at\", now());\n      run_inline_js();\n    });\n  }\n}(window));"
     },
     "metadata": {},
     "output_type": "display_data"
    },
    {
     "data": {
      "text/html": [
       "\n",
       "  <div id=\"a26fd572-c286-44ba-88c0-e9cee6cdfbc1\" data-root-id=\"p1002\" style=\"display: contents;\"></div>\n"
      ]
     },
     "metadata": {},
     "output_type": "display_data"
    },
    {
     "data": {
      "application/javascript": [
       "(function(root) {\n",
       "  function embed_document(root) {\n",
       "  const docs_json = {\"f35b1a85-d84e-4f3d-99fe-5a104c4fb5e9\":{\"version\":\"3.0.2\",\"title\":\"Bokeh Application\",\"defs\":[],\"roots\":[{\"type\":\"object\",\"name\":\"Figure\",\"id\":\"p1002\",\"attributes\":{\"width\":800,\"height\":400,\"x_range\":{\"type\":\"object\",\"name\":\"Range1d\",\"id\":\"p1012\",\"attributes\":{\"start\":0.29,\"end\":5.5}},\"y_range\":{\"type\":\"object\",\"name\":\"Range1d\",\"id\":\"p1014\",\"attributes\":{\"start\":0.662297774229505,\"end\":0.8101870114821943}},\"x_scale\":{\"type\":\"object\",\"name\":\"LinearScale\",\"id\":\"p1016\"},\"y_scale\":{\"type\":\"object\",\"name\":\"LinearScale\",\"id\":\"p1018\"},\"title\":{\"type\":\"object\",\"name\":\"Title\",\"id\":\"p1005\",\"attributes\":{\"text\":\"Model + Data + Error Bars\"}},\"renderers\":[{\"type\":\"object\",\"name\":\"GlyphRenderer\",\"id\":\"p1053\",\"attributes\":{\"data_source\":{\"type\":\"object\",\"name\":\"ColumnDataSource\",\"id\":\"p1047\",\"attributes\":{\"selected\":{\"type\":\"object\",\"name\":\"Selection\",\"id\":\"p1048\",\"attributes\":{\"indices\":[],\"line_indices\":[]}},\"selection_policy\":{\"type\":\"object\",\"name\":\"UnionRenderers\",\"id\":\"p1049\"},\"data\":{\"type\":\"map\",\"entries\":[[\"x\",{\"type\":\"ndarray\",\"array\":{\"type\":\"bytes\",\"data\":\"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\"},\"shape\":[276],\"dtype\":\"float64\",\"order\":\"little\"}],[\"y\",{\"type\":\"ndarray\",\"array\":{\"type\":\"bytes\",\"data\":\"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\"},\"shape\":[276],\"dtype\":\"float64\",\"order\":\"little\"}]]}}},\"view\":{\"type\":\"object\",\"name\":\"CDSView\",\"id\":\"p1054\",\"attributes\":{\"filter\":{\"type\":\"object\",\"name\":\"AllIndices\",\"id\":\"p1055\"}}},\"glyph\":{\"type\":\"object\",\"name\":\"Circle\",\"id\":\"p1050\",\"attributes\":{\"x\":{\"type\":\"field\",\"field\":\"x\"},\"y\":{\"type\":\"field\",\"field\":\"y\"},\"fill_color\":{\"type\":\"value\",\"value\":\"black\"}}},\"nonselection_glyph\":{\"type\":\"object\",\"name\":\"Circle\",\"id\":\"p1051\",\"attributes\":{\"x\":{\"type\":\"field\",\"field\":\"x\"},\"y\":{\"type\":\"field\",\"field\":\"y\"},\"line_alpha\":{\"type\":\"value\",\"value\":0.1},\"fill_color\":{\"type\":\"value\",\"value\":\"black\"},\"fill_alpha\":{\"type\":\"value\",\"value\":0.1},\"hatch_alpha\":{\"type\":\"value\",\"value\":0.1}}},\"muted_glyph\":{\"type\":\"object\",\"name\":\"Circle\",\"id\":\"p1052\",\"attributes\":{\"x\":{\"type\":\"field\",\"field\":\"x\"},\"y\":{\"type\":\"field\",\"field\":\"y\"},\"line_alpha\":{\"type\":\"value\",\"value\":0.2},\"fill_color\":{\"type\":\"value\",\"value\":\"black\"},\"fill_alpha\":{\"type\":\"value\",\"value\":0.2},\"hatch_alpha\":{\"type\":\"value\",\"value\":0.2}}}}},{\"type\":\"object\",\"name\":\"GlyphRenderer\",\"id\":\"p1062\",\"attributes\":{\"data_source\":{\"type\":\"object\",\"name\":\"ColumnDataSource\",\"id\":\"p1056\",\"attributes\":{\"selected\":{\"type\":\"object\",\"name\":\"Selection\",\"id\":\"p1057\",\"attributes\":{\"indices\":[],\"line_indices\":[]}},\"selection_policy\":{\"type\":\"object\",\"name\":\"UnionRenderers\",\"id\":\"p1058\"},\"data\":{\"type\":\"map\",\"entries\":[[\"xs\",[[0.6115072877161086,0.6115072877161086],[0.6161103012070064,0.6161103012070064],[0.6208122318547054,0.6208122318547054],[0.6256184935359363,0.6256184935359363],[0.6305289815653039,0.6305289815653039],[0.6355485054903776,0.6355485054903776],[0.6406781925961564,0.6406781925961564],[0.6459222576565863,0.6459222576565863],[0.6512848879318138,0.6512848879318138],[0.6567702275324567,0.6567702275324567],[0.6623824023025819,0.6623824023025819],[0.6681254693105108,0.6681254693105108],[0.6740034463717535,0.6740034463717535],[0.6800203275210925,0.6800203275210925],[0.6861840998716449,0.6861840998716449],[0.6924960636776694,0.6924960636776694],[0.6989673403094941,0.6989673403094941],[0.7055964740243397,0.7055964740243397],[0.7123933684652248,0.7123933684652248],[0.7193597567086757,0.7193597567086757],[0.726501916838666,0.726501916838666],[0.7337798620253231,0.7337798620253231],[0.7411476866192758,0.7411476866192758],[0.74885536987851,0.74885536987851],[0.7567638769608438,0.7567638769608438],[0.7648753543529766,0.7648753543529766],[0.7732105969224792,0.7732105969224792],[0.7817620224044457,0.7817620224044457],[0.7905437278998475,0.7905437278998475],[0.7995682990835928,0.7995682990835928],[0.8088270674333922,0.8088270674333922],[0.8183418088138193,0.8183418088138193],[0.8281213710495698,0.8281213710495698],[0.8381632252130756,0.8381632252130756],[0.8484769844805841,0.8484769844805841],[0.8590716213638419,0.8590716213638419],[0.8699550721065319,0.8699550721065319],[0.8811345691434173,0.8811345691434173],[0.8926164059756965,0.8926164059756965],[0.904406016120264,0.904406016120264],[0.9165078232919142,0.9165078232919142],[0.9289255380224837,0.9289255380224837],[0.9416800844295095,0.9416800844295095],[0.954757922890753,0.954757922890753],[0.9681655972814562,0.9681655972814562],[0.9819158207688717,0.9819158207688717],[0.9959981927370158,0.9959981927370158],[1.0104222177520512,1.0104222177520512],[1.0251871827790946,1.0251871827790946],[1.0402862726990512,1.0402862726990512],[1.0557198281924247,1.0557198281924247],[1.0714898376307211,1.0714898376307211],[1.0875877163842513,1.0875877163842513],[1.104006533920936,1.104006533920936],[1.1207395248796759,1.1207395248796759],[1.1377781502879116,1.1377781502879116],[1.1551158212859407,1.1551158212859407],[1.1727403237610945,1.1727403237610945],[1.190638059814936,1.190638059814936],[1.208795814444236,1.208795814444236],[1.2272038274968164,1.2272038274968164],[1.2458459059263047,1.2458459059263047],[1.2647046149609256,1.2647046149609256],[1.2837703169412418,1.2837703169412418],[1.3030203614670928,1.3030203614670928],[1.3224455259176782,1.3224455259176782],[1.3420237208724042,1.3420237208724042],[1.3617432290662455,1.3617432290662455],[1.3815854704877728,1.3815854704877728],[1.4015354314822852,1.4015354314822852],[1.4215790403804203,1.4215790403804203],[1.4416998638203056,1.4416998638203056],[1.4618841077787084,1.4618841077787084],[1.48211848098785,1.48211848098785],[1.502388965910429,1.502388965910429],[1.522683417390884,1.522683417390884],[1.5429900557396328,1.5429900557396328],[1.5632975284691646,1.5632975284691646],[1.5835958392856337,1.5835958392856337],[1.6038747981452106,1.6038747981452106],[1.624125605649303,1.624125605649303],[1.6443401332022933,1.6443401332022933],[1.6645096901720602,1.6645096901720602],[1.6846280471972848,1.6846280471972848],[1.70468907000548,1.70468907000548],[1.724685462473476,1.724685462473476],[1.7446131940256195,1.7446131940256195],[1.7644671558989597,1.7644671558989597],[1.7842419061924712,1.7842419061924712],[1.803935659492312,1.803935659492312],[1.8235424368753346,1.8235424368753346],[1.8430615360990812,1.8430615360990812],[1.862488638859403,1.862488638859403],[1.8818222487451635,1.8818222487451635],[1.9391415115001038,1.9391415115001038],[1.9580821813659908,1.9580821813659908],[1.9769207077354487,1.9769207077354487],[1.9956586737483906,1.9956586737483906],[2.0142931247850386,2.0142931247850386],[2.032825382070289,2.032825382070289],[2.051254542870035,2.051254542870035],[2.069580257571907,2.069580257571907],[2.087802985750894,2.087802985750894],[2.105922681788073,2.105922681788073],[2.1239391899058058,2.1239391899058058],[2.141853549718946,2.141853549718946],[2.1596654196459464,2.1596654196459464],[2.17737590151879,2.17737590151879],[2.1949848887890013,2.1949848887890013],[2.2124935430572488,2.2124935430572488],[2.229902261140084,2.229902261140084],[2.2472119767280896,2.2472119767280896],[2.2644232959133457,2.2644232959133457],[2.2815370741684635,2.2815370741684635],[2.2985537640874387,2.2985537640874387],[2.315474455231197,2.315474455231197],[2.3322999048532136,2.3322999048532136],[2.349031161831413,2.349031161831413],[2.3656691639086955,2.3656691639086955],[2.382214757520621,2.382214757520621],[2.3986690084490863,2.3986690084490863],[2.415032662843209,2.415032662843209],[2.4313068331416643,2.4313068331416643],[2.447492323622435,2.447492323622435],[2.463589985908683,2.463589985908683],[2.4796008501450513,2.4796008501450513],[2.4955257229938645,2.4955257229938645],[2.511365810742753,2.511365810742753],[2.5271220966825227,2.5271220966825227],[2.5427956419637896,2.5427956419637896],[2.5583871476327253,2.5583871476327253],[2.573897674007804,2.573897674007804],[2.5893277735052127,2.5893277735052127],[2.6046786902819967,2.6046786902819967],[2.6199512972423413,2.6199512972423413],[2.6351463204806973,2.6351463204806973],[2.650265172670348,2.650265172670348],[2.6653079451229758,2.6653079451229758],[2.6802760992537342,2.6802760992537342],[2.6951702953220043,2.6951702953220043],[2.7099913942804212,2.7099913942804212],[2.724740192668611,2.724740192668611],[2.739417781554737,2.739417781554737],[2.754024726846408,2.754024726846408],[2.7685615784026356,2.7685615784026356],[2.7830300731024225,2.7830300731024225],[2.797429773659177,2.797429773659177],[2.811762236335034,2.811762236335034],[2.8295458374146456,2.8295458374146456],[2.8437295518194414,2.8437295518194414],[2.8683540165368853,2.8683540165368853],[2.8823616858671572,2.8823616858671572],[2.896306495779061,2.896306495779061],[2.910188815024389,2.910188815024389],[2.924009854718075,2.924009854718075],[2.9377697913896066,2.9377697913896066],[2.951469673245638,2.951469673245638],[2.965109858398292,2.965109858398292],[2.9786914777319007,2.9786914777319007],[2.992214497648731,2.992214497648731],[3.005679879534752,3.005679879534752],[3.0190887774367585,3.0190887774367585],[3.032440473968488,3.032440473968488],[3.0457371383462974,3.0457371383462974],[3.0589780298042193,3.0589780298042193],[3.072164460691785,3.072164460691785],[3.0852974954186454,3.0852974954186454],[3.09837579494581,3.09837579494581],[3.111402388996778,3.111402388996778],[3.1243763728214424,3.1243763728214424],[3.1372978445264437,3.1372978445264437],[3.1501692064005833,3.1501692064005833],[3.162989201472185,3.162989201472185],[3.1757586812876912,3.1757586812876912],[3.1884794026224346,3.1884794026224346],[3.2011506037690745,3.2011506037690745],[3.213772367043914,3.213772367043914],[3.2263467704754527,3.2263467704754527],[3.2388737665312903,3.2388737665312903],[3.2513525555670393,3.2513525555670393],[3.2637847341815203,3.2637847341815203],[3.2761711974148877,3.2761711974148877],[3.28851164572841,3.28851164572841],[3.300806186768055,3.300806186768055],[3.3130559617887263,3.3130559617887263],[3.3252614538152465,3.3252614538152465],[3.3374227416924245,3.3374227416924245],[3.3495402051858645,3.3495402051858645],[3.361614393756057,3.361614393756057],[3.3736459990595815,3.3736459990595815],[3.385634962880789,3.385634962880789],[3.397581878434929,3.397581878434929],[3.40948731944679,3.40948731944679],[3.421351161236915,3.421351161236915],[3.4331741941615994,3.4331741941615994],[3.4449568670699073,3.4449568670699073],[3.4566992748138214,3.4566992748138214],[3.4712882433725687,3.4712882433725687],[3.4945568057367544,3.4945568057367544],[3.514754688042769,3.514754688042769],[3.5377360689740094,3.5377360689740094],[3.5605677550347448,3.5605677550347448],[3.583252507974988,3.583252507974988],[3.605792984628856,3.605792984628856],[3.6281914010877316,3.6281914010877316],[3.6504502497779776,3.6504502497779776],[3.6725717825193143,3.6725717825193143],[3.6945582589517474,3.6945582589517474],[3.716411826589214,3.716411826589214],[3.7381347629014696,3.7381347629014696],[3.7597290864612187,3.7597290864612187],[3.781196933105533,3.781196933105533],[3.8025403732266607,3.8025403732266607],[3.8237613118582527,3.8237613118582527],[3.84486145871677,3.84486145871677],[3.865842927004973,3.865842927004973],[3.8867070163742907,3.8867070163742907],[3.9074560959713653,3.9074560959713653],[3.9280912059793223,3.9280912059793223],[3.9486148927070714,3.9486148927070714],[3.969027834754583,3.969027834754583],[3.991833672938743,3.991833672938743],[4.012018153607586,4.012018153607586],[4.044527636915312,4.044527636915312],[4.064439741463611,4.064439741463611],[4.084249219571966,4.084249219571966],[4.103958899455305,4.103958899455305],[4.123569910114438,4.123569910114438],[4.143082888730299,4.143082888730299],[4.162499888055512,4.162499888055512],[4.181821913647367,4.181821913647367],[4.201050228701108,4.201050228701108],[4.22018588580365,4.22018588580365],[4.239230442468386,4.239230442468386],[4.258184762127438,4.258184762127438],[4.277049994095195,4.277049994095195],[4.295827404583528,4.295827404583528],[4.314518134665906,4.314518134665906],[4.333123068128247,4.333123068128247],[4.351643382940482,4.351643382940482],[4.370080002629182,4.370080002629182],[4.388434322320203,4.388434322320203],[4.406706678110252,4.406706678110252],[4.424898499907652,4.424898499907652],[4.445240724606927,4.445240724606927],[4.476760433639168,4.476760433639168],[4.501310393338045,4.501310393338045],[4.527958484650606,4.527958484650606],[4.554438794215529,4.554438794215529],[4.5807542136796595,4.5807542136796595],[4.606907478522122,4.606907478522122],[4.632901177469995,4.632901177469995],[4.6587382100714,4.6587382100714],[4.684420787732817,4.684420787732817],[4.709951214586628,4.709951214586628],[4.73533266499237,4.73533266499237],[4.760566104714761,4.760566104714761],[4.785655503929673,4.785655503929673],[4.810601603067694,4.810601603067694],[4.835407679454752,4.835407679454752],[4.86210059637456,4.86210059637456],[4.886620755090589,4.886620755090589],[4.925088160079268,4.925088160079268],[4.949266477771393,4.949266477771393],[4.973315985304518,4.973315985304518],[4.997237736627033,4.997237736627033],[5.021033462344347,5.021033462344347],[5.044705755017275,5.044705755017275],[5.0682558241057425,5.0682558241057425],[5.091684576039695,5.091684576039695],[5.114994807020459,5.114994807020459],[5.138188012720654,5.138188012720654],[5.161264751110652,5.161264751110652],[5.184227666555082,5.184227666555082],[5.207077378393876,5.207077378393876],[5.297568853064386,5.297568853064386]]],[\"ys\",[[0.724225923155494,0.7356442487493287],[0.7298675298108255,0.743942980381525],[0.7193426708444126,0.7378464350170961],[0.7156283700641946,0.7352787067046191],[0.7335980423651647,0.7491718476758982],[0.7286780015509497,0.7403891934353615],[0.729059954451848,0.7370269453590402],[0.7287301482373576,0.7338660772014547],[0.7373067714548708,0.7412237656995645],[0.7341886969174327,0.7375998249565667],[0.7377465518468275,0.7412529482665055],[0.7265960768251846,0.7313531752155694],[0.7341529466954834,0.7415325112021164],[0.735050730598379,0.7431447316492285],[0.7358551659436958,0.7416480599336039],[0.7331162004091423,0.7364092580948118],[0.7355734890912276,0.7375693951938975],[0.7356520795224611,0.7373460019399837],[0.734227304966609,0.7361749762632168],[0.7353837533700347,0.7370280791577835],[0.7353815802946331,0.7362776857373228],[0.7358074060724942,0.7363784901171349],[0.7359615343540864,0.7364213601566816],[0.7358669362821053,0.7362923402600858],[0.7360098535418982,0.7364604255155187],[0.7357406518190692,0.7362942755144755],[0.7356942315607531,0.7362845762511938],[0.735864391149942,0.7363262736733905],[0.7358023056188786,0.7361601857587364],[0.7358587036464603,0.7361577076964267],[0.7360955114505537,0.7363653074971593],[0.7362961682007629,0.7365562153751113],[0.7361059749830168,0.7363674294421074],[0.7360302234860837,0.736309168995091],[0.7357309137243524,0.7360354059677234],[0.7362580221523747,0.7365445585367802],[0.736070651242273,0.7363185447756546],[0.7361511155782381,0.7363762184934617],[0.736143145345854,0.7363559759825296],[0.7362904839413434,0.7364910928137397],[0.7361680552797988,0.7363621886341619],[0.7363676755883553,0.736561178824769],[0.7362723533376786,0.7364595129123762],[0.7361777855195066,0.736356102400991],[0.7363295507176115,0.736501875052207],[0.736320503777098,0.7364847259758628],[0.7362972300252523,0.736453464892772],[0.7364517328468887,0.7366026430942134],[0.736292637128896,0.7364389659723216],[0.7363881069140937,0.7365280776296416],[0.736276397211795,0.7364086730008258],[0.7364286700088574,0.7365539222696165],[0.7363918749531914,0.7365125286820781],[0.7363795427853418,0.7364976746095521],[0.736282676199677,0.736398565774786],[0.7364422412129003,0.7365557841831093],[0.7363250353477182,0.7364356555175735],[0.7363469823526553,0.7364546257822432],[0.7361958389857536,0.7363004726980641],[0.7364214158778088,0.7365231542852897],[0.7364697464012676,0.7365695002860401],[0.7365215835657482,0.7366200621391694],[0.7363916138669043,0.7364888867746348],[0.7364165142973295,0.7365128272046647],[0.7364197860806186,0.7365166850069452],[0.7363817192807627,0.73648392335226],[0.7363275443297167,0.7364403984050499],[0.7362436658933327,0.7363650528563188],[0.7362479054590657,0.7363736790448366],[0.7361973704402393,0.7363282691600727],[0.7361803431425702,0.7363138382756365],[0.7362527189167815,0.7363847721676186],[0.7361849470328855,0.7363154878952484],[0.7361273299686476,0.7362572797182277],[0.7362808086212286,0.7364094496258852],[0.7362770258409923,0.7364030843022626],[0.7362002316714241,0.7363240107806605],[0.7362619087268595,0.7363844107903815],[0.7363394809556536,0.7364606882481908],[0.7362372639953059,0.7363573674748889],[0.7362393305953493,0.7363589770049893],[0.7364300856000705,0.7365497388847257],[0.7363226301512149,0.7364430552171424],[0.7364029625992384,0.7365254713040793],[0.7363299693905493,0.7364564906699619],[0.7362854871059347,0.7364170377119411],[0.7362017491879449,0.7363387742232337],[0.7361927549543835,0.7363359063161142],[0.7362097621428801,0.7363600610679862],[0.7360530974524764,0.7362088573210861],[0.7362027410768719,0.7363621454252838],[0.736042560070302,0.7362079896703804],[0.7362940512128164,0.7364640874699873],[0.7362017896744579,0.7363705158888709],[0.7362475766252429,0.7363443329986018],[0.7361126074470256,0.7362831734902878],[0.7361064338470931,0.7362796436567429],[0.7361254905302284,0.7362984801189216],[0.7361996440915712,0.7363709293311451],[0.7361339872354392,0.7363052779807747],[0.7359178126430593,0.7360908254062454],[0.7362655206330678,0.7364381856064525],[0.736232417508755,0.736402854478793],[0.7363160788037668,0.7364848039089233],[0.73618533975854,0.7363534317965063],[0.7363143300014455,0.736481832900196],[0.7363802179045122,0.7365476690630235],[0.7361691428896372,0.7363370465169575],[0.7361572669485529,0.7363255220235972],[0.7362915222311717,0.7364598386477306],[0.7362138090454503,0.7363824726972085],[0.736373309537344,0.7365426798614388],[0.7361418939462081,0.7363126790003041],[0.7362967544690184,0.7364702626320996],[0.7363701573329903,0.7365470391576269],[0.7364127021980453,0.7365923499891509],[0.7362231715921635,0.736405069866716],[0.7365232922547905,0.7367075696198212],[0.736254171785117,0.7364413133191854],[0.7361678635820382,0.7363581000878577],[0.7361954724025246,0.7363896614373653],[0.7362286424025235,0.736428442235894],[0.736303159335083,0.7365070478599373],[0.7360590875950287,0.736266502115641],[0.7362766405514478,0.7364907079294092],[0.7360661232212278,0.7362850946097601],[0.7359039674032142,0.736125424125466],[0.7359558957944077,0.7361820952675731],[0.7360305783122304,0.736262164049467],[0.736028644331623,0.7362645503238118],[0.7359699506506978,0.7362120188642747],[0.7359192682408968,0.7361638655971332],[0.7360992203314003,0.7363396396436683],[0.7361906782196809,0.7364291262482273],[0.7363388060188083,0.7365790801445082],[0.7360525262853944,0.7362944896386826],[0.7362468342459093,0.7364884666282491],[0.7359503977816471,0.7361937312883668],[0.7359411793373543,0.73619310908559],[0.7360567373126045,0.7363140549095807],[0.7361585289950859,0.7364139121151584],[0.7359660940866412,0.7362257721351878],[0.7359938637748993,0.7362600600528746],[0.7361679794770327,0.7364336540938067],[0.7362456195699004,0.7365090889222882],[0.7357824589241241,0.7360466047894513],[0.7359644180288316,0.7362284431824155],[0.7359614626076509,0.7362273492997564],[0.7359047252503303,0.7361767655447327],[0.7359438421408895,0.7362227869792262],[0.735629117735744,0.7359116059070473],[0.7361085841641789,0.7363938076168998],[0.7359769809835263,0.7362649496623391],[0.7360935031962718,0.7363826193705768],[0.7360336588354818,0.7363242931946855],[0.7359433544664514,0.7362336496881222],[0.7360267743071217,0.7363204759790413],[0.7361516804459474,0.7364477272061623],[0.7360583471625178,0.7363526899191236],[0.7360493793119263,0.7363452362286527],[0.7359400058844017,0.7362403727299716],[0.7358653182713802,0.7361689321051926],[0.7359364443667895,0.7362375745892098],[0.7361550358908173,0.7364524550828606],[0.7361762927179807,0.7364755591310079],[0.7361188249287813,0.7364195352748171],[0.7359871814688331,0.7362834668488046],[0.7356542911300903,0.7359472165288237],[0.7359125398191068,0.7362059960223207],[0.7358904811482543,0.7361902879112046],[0.7361234127164485,0.7364332266216426],[0.7359114364574407,0.736226621943216],[0.735833409066813,0.7361447066784443],[0.7360173448747866,0.7363233954234756],[0.7362602855364845,0.7365659799290977],[0.735855226360837,0.7361607359483496],[0.7361073667771856,0.736413596132127],[0.7360125653514072,0.7363263233132834],[0.7360350496557614,0.7363542245536395],[0.7359365692785993,0.7362495473370183],[0.7359673046950013,0.7362717943736761],[0.7359644814226304,0.7362673700123304],[0.7361456893065074,0.7364489623927447],[0.7360219737598873,0.7363249620460018],[0.7357054398771646,0.7360098517833792],[0.7358574743477255,0.736161158959074],[0.7363190254422726,0.7366214464084425],[0.7362410382094426,0.7365450907341164],[0.7360614859505117,0.7363680096190013],[0.7363600058708525,0.7366667821539489],[0.7360278865096523,0.7363341110633728],[0.7360090125338076,0.7363159500002435],[0.7360480478140932,0.7363539617267816],[0.7359952684256689,0.7363008966444194],[0.7360133922807739,0.7363209516672597],[0.7356821184465208,0.7359916252914083],[0.7359865583349379,0.7362090199697129],[0.7360573491782931,0.7362824616398955],[0.7359295349553329,0.736254622686168],[0.7360301199808146,0.7362581263143106],[0.7362477555486765,0.7364753090966228],[0.7361230703833768,0.7363540637563186],[0.736156130493759,0.7363872090341196],[0.7359166285053947,0.7361475143061141],[0.7363411217466616,0.7365745183009498],[0.7361562809827843,0.7363919548498671],[0.7359886659547863,0.7362272082553949],[0.7361058387117363,0.7363443554515787],[0.7362896633384387,0.7365308630160597],[0.7362441292542449,0.7364878105928124],[0.736055267590073,0.736300444094984],[0.7361173503506694,0.7363654283563336],[0.7359950107685238,0.7362443277244957],[0.7361330192525853,0.7363872132755139],[0.7361101781903292,0.7363645252358095],[0.7363166216688084,0.7365739019520612],[0.7359687673422571,0.7362274048635044],[0.7362757881819504,0.7365378372367537],[0.7360898335833417,0.736355002117234],[0.7361229148222407,0.7363915917188361],[0.7363988916528137,0.7366721121118618],[0.7360228322806461,0.7362497498221938],[0.7360193990445351,0.7363048606835655],[0.7361744066794031,0.736463689971171],[0.7363366636627934,0.7366325353566162],[0.7361014676389908,0.7364042368346626],[0.7363958614091349,0.7367057407461167],[0.7361435472989689,0.7364598823432541],[0.7360553956794113,0.7363741400211582],[0.7360076323520713,0.7363303901915758],[0.7360616819328243,0.7363845759538776],[0.7361491684614165,0.7364715283315777],[0.736315454286817,0.7366493153997892],[0.7360636216154274,0.7364044174556333],[0.7361509614334668,0.7365000603568287],[0.7363917994592479,0.7367461458686584],[0.7359739094860722,0.7363307037202695],[0.73593440674214,0.736293571856148],[0.7361887745426197,0.7365512488556483],[0.7361473600384938,0.7365223900310529],[0.7360150892772956,0.7363935643560615],[0.7360593239300363,0.736446682419826],[0.7359474072516272,0.7363447179673117],[0.7361385068178948,0.7364294419849614],[0.7363280485903907,0.7367471913210517],[0.7361074754864669,0.7364648904367508],[0.7362952730556453,0.7366548233448402],[0.7359722994023999,0.7363368226597616],[0.73604204208534,0.7364119456753138],[0.7359946456528644,0.7363758109925721],[0.7360043311721208,0.7363839659638199],[0.7360918697576254,0.7364700324637502],[0.7360461010252495,0.7364383589267653],[0.7358840958735827,0.7362838379647535],[0.735994440219705,0.7363945982744666],[0.7363398464325751,0.7367633194805551],[0.7360169539364574,0.7364392412867178],[0.7360868957134993,0.7365032129085057],[0.7355351073880115,0.735981590833307],[0.7361055930840054,0.7365501904932651],[0.7360776452776031,0.7365536856175995],[0.7359770721508748,0.7364465232302689],[0.7361342133454402,0.7366172174081514],[0.7358253993952958,0.7363249006322735],[0.7361159111610468,0.7366491403478103],[0.7364688806104228,0.7369541082747054],[0.7363199982002515,0.7368498952451807],[0.7359996884586635,0.7365398593456027],[0.7360266108930801,0.7365511522276685],[0.7356873885652998,0.7362294892358149],[0.7355606543550289,0.7361039133803896],[0.735139468709092,0.7357098617734001],[0.7354103881440139,0.7360133712698109],[0.7357478434635466,0.7363577678110135],[0.7359678282970196,0.7362942893012109],[0.7354977161948664,0.7361426309621317]]]]}}},\"view\":{\"type\":\"object\",\"name\":\"CDSView\",\"id\":\"p1063\",\"attributes\":{\"filter\":{\"type\":\"object\",\"name\":\"AllIndices\",\"id\":\"p1064\"}}},\"glyph\":{\"type\":\"object\",\"name\":\"MultiLine\",\"id\":\"p1059\",\"attributes\":{\"xs\":{\"type\":\"field\",\"field\":\"xs\"},\"ys\":{\"type\":\"field\",\"field\":\"ys\"}}},\"nonselection_glyph\":{\"type\":\"object\",\"name\":\"MultiLine\",\"id\":\"p1060\",\"attributes\":{\"xs\":{\"type\":\"field\",\"field\":\"xs\"},\"ys\":{\"type\":\"field\",\"field\":\"ys\"},\"line_alpha\":{\"type\":\"value\",\"value\":0.1}}},\"muted_glyph\":{\"type\":\"object\",\"name\":\"MultiLine\",\"id\":\"p1061\",\"attributes\":{\"xs\":{\"type\":\"field\",\"field\":\"xs\"},\"ys\":{\"type\":\"field\",\"field\":\"ys\"},\"line_alpha\":{\"type\":\"value\",\"value\":0.2}}}}}],\"toolbar\":{\"type\":\"object\",\"name\":\"Toolbar\",\"id\":\"p1010\",\"attributes\":{\"tools\":[{\"type\":\"object\",\"name\":\"PanTool\",\"id\":\"p1034\"},{\"type\":\"object\",\"name\":\"WheelZoomTool\",\"id\":\"p1035\"},{\"type\":\"object\",\"name\":\"BoxZoomTool\",\"id\":\"p1036\",\"attributes\":{\"overlay\":{\"type\":\"object\",\"name\":\"BoxAnnotation\",\"id\":\"p1037\",\"attributes\":{\"syncable\":false,\"level\":\"overlay\",\"visible\":false,\"left_units\":\"canvas\",\"right_units\":\"canvas\",\"bottom_units\":\"canvas\",\"top_units\":\"canvas\",\"line_color\":\"black\",\"line_alpha\":1.0,\"line_width\":2,\"line_dash\":[4,4],\"fill_color\":\"lightgrey\",\"fill_alpha\":0.5}}}},{\"type\":\"object\",\"name\":\"ResetTool\",\"id\":\"p1038\"},{\"type\":\"object\",\"name\":\"SaveTool\",\"id\":\"p1039\"}]}},\"left\":[{\"type\":\"object\",\"name\":\"LinearAxis\",\"id\":\"p1027\",\"attributes\":{\"ticker\":{\"type\":\"object\",\"name\":\"BasicTicker\",\"id\":\"p1030\",\"attributes\":{\"mantissas\":[1,2,5]}},\"formatter\":{\"type\":\"object\",\"name\":\"BasicTickFormatter\",\"id\":\"p1028\"},\"axis_label\":\"rp^2/r*^2\",\"major_label_policy\":{\"type\":\"object\",\"name\":\"AllLabels\",\"id\":\"p1029\"}}}],\"below\":[{\"type\":\"object\",\"name\":\"LinearAxis\",\"id\":\"p1020\",\"attributes\":{\"ticker\":{\"type\":\"object\",\"name\":\"BasicTicker\",\"id\":\"p1023\",\"attributes\":{\"mantissas\":[1,2,5]}},\"formatter\":{\"type\":\"object\",\"name\":\"BasicTickFormatter\",\"id\":\"p1021\"},\"axis_label\":\"Wavelength [microns]\",\"major_label_policy\":{\"type\":\"object\",\"name\":\"AllLabels\",\"id\":\"p1022\"}}}],\"center\":[{\"type\":\"object\",\"name\":\"Grid\",\"id\":\"p1026\",\"attributes\":{\"axis\":{\"id\":\"p1020\"}}},{\"type\":\"object\",\"name\":\"Grid\",\"id\":\"p1033\",\"attributes\":{\"dimension\":1,\"axis\":{\"id\":\"p1027\"}}}],\"background_fill_color\":\"white\"}}]}};\n",
       "  const render_items = [{\"docid\":\"f35b1a85-d84e-4f3d-99fe-5a104c4fb5e9\",\"roots\":{\"p1002\":\"a26fd572-c286-44ba-88c0-e9cee6cdfbc1\"},\"root_ids\":[\"p1002\"]}];\n",
       "  root.Bokeh.embed.embed_items_notebook(docs_json, render_items);\n",
       "  }\n",
       "  if (root.Bokeh !== undefined) {\n",
       "    embed_document(root);\n",
       "  } else {\n",
       "    let attempts = 0;\n",
       "    const timer = setInterval(function(root) {\n",
       "      if (root.Bokeh !== undefined) {\n",
       "        clearInterval(timer);\n",
       "        embed_document(root);\n",
       "      } else {\n",
       "        attempts++;\n",
       "        if (attempts > 100) {\n",
       "          clearInterval(timer);\n",
       "          console.log(\"Bokeh: ERROR: Unable to run BokehJS code because BokehJS library is missing\");\n",
       "        }\n",
       "      }\n",
       "    }, 10, root)\n",
       "  }\n",
       "})(window);"
      ],
      "application/vnd.bokehjs_exec.v0+json": ""
     },
     "metadata": {
      "application/vnd.bokehjs_exec.v0+json": {
       "id": "p1002"
      }
     },
     "output_type": "display_data"
    }
   ],
   "source": [
    "#load in output from run\n",
    "out = pk.load(open('trappist_hacked_pandexo.p','rb'))\n",
    "#for a single run \n",
    "x,y, e = jpi.jwst_1d_spec(out, R=100, num_tran=1, model=False, x_range=[0.29,5.5])"
   ]
  },
  {
   "cell_type": "code",
   "execution_count": 9,
   "id": "3337ae1c-4e57-482d-8dc2-b4b935cd0ede",
   "metadata": {},
   "outputs": [
    {
     "data": {
      "text/html": [
       "\n",
       "  <div id=\"3b4b030e-7abb-4460-9212-02a2b069cd7a\" data-root-id=\"p1175\" style=\"display: contents;\"></div>\n"
      ]
     },
     "metadata": {},
     "output_type": "display_data"
    },
    {
     "data": {
      "application/javascript": [
       "(function(root) {\n",
       "  function embed_document(root) {\n",
       "  const docs_json = {\"14b0e491-3b5a-41ba-9d3c-e26f39fe2fba\":{\"version\":\"3.0.2\",\"title\":\"Bokeh Application\",\"defs\":[],\"roots\":[{\"type\":\"object\",\"name\":\"Figure\",\"id\":\"p1175\",\"attributes\":{\"width\":800,\"height\":300,\"x_range\":{\"type\":\"object\",\"name\":\"DataRange1d\",\"id\":\"p1177\"},\"y_range\":{\"type\":\"object\",\"name\":\"Range1d\",\"id\":\"p1187\",\"attributes\":{\"end\":276.08264869243806}},\"x_scale\":{\"type\":\"object\",\"name\":\"LinearScale\",\"id\":\"p1189\"},\"y_scale\":{\"type\":\"object\",\"name\":\"LinearScale\",\"id\":\"p1191\"},\"title\":{\"type\":\"object\",\"name\":\"Title\",\"id\":\"p1178\",\"attributes\":{\"text\":\"Error Curve\"}},\"renderers\":[{\"type\":\"object\",\"name\":\"GlyphRenderer\",\"id\":\"p1226\",\"attributes\":{\"data_source\":{\"type\":\"object\",\"name\":\"ColumnDataSource\",\"id\":\"p1220\",\"attributes\":{\"selected\":{\"type\":\"object\",\"name\":\"Selection\",\"id\":\"p1221\",\"attributes\":{\"indices\":[],\"line_indices\":[]}},\"selection_policy\":{\"type\":\"object\",\"name\":\"UnionRenderers\",\"id\":\"p1222\"},\"data\":{\"type\":\"map\",\"entries\":[[\"x\",{\"type\":\"ndarray\",\"array\":{\"type\":\"bytes\",\"data\":\"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\"},\"shape\":[282],\"dtype\":\"float64\",\"order\":\"little\"}],[\"y\",{\"type\":\"ndarray\",\"array\":{\"type\":\"bytes\",\"data\":\"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\"},\"shape\":[282],\"dtype\":\"float64\",\"order\":\"little\"}]]}}},\"view\":{\"type\":\"object\",\"name\":\"CDSView\",\"id\":\"p1227\",\"attributes\":{\"filter\":{\"type\":\"object\",\"name\":\"AllIndices\",\"id\":\"p1228\"}}},\"glyph\":{\"type\":\"object\",\"name\":\"Circle\",\"id\":\"p1223\",\"attributes\":{\"x\":{\"type\":\"field\",\"field\":\"x\"},\"y\":{\"type\":\"field\",\"field\":\"y\"},\"line_color\":{\"type\":\"value\",\"value\":\"#1f77b4\"},\"line_alpha\":{\"type\":\"value\",\"value\":0.7},\"line_width\":{\"type\":\"value\",\"value\":4},\"fill_color\":{\"type\":\"value\",\"value\":\"#1f77b4\"},\"fill_alpha\":{\"type\":\"value\",\"value\":0.7},\"hatch_alpha\":{\"type\":\"value\",\"value\":0.7}}},\"nonselection_glyph\":{\"type\":\"object\",\"name\":\"Circle\",\"id\":\"p1224\",\"attributes\":{\"x\":{\"type\":\"field\",\"field\":\"x\"},\"y\":{\"type\":\"field\",\"field\":\"y\"},\"line_color\":{\"type\":\"value\",\"value\":\"#1f77b4\"},\"line_alpha\":{\"type\":\"value\",\"value\":0.1},\"line_width\":{\"type\":\"value\",\"value\":4},\"fill_color\":{\"type\":\"value\",\"value\":\"#1f77b4\"},\"fill_alpha\":{\"type\":\"value\",\"value\":0.1},\"hatch_alpha\":{\"type\":\"value\",\"value\":0.1}}},\"muted_glyph\":{\"type\":\"object\",\"name\":\"Circle\",\"id\":\"p1225\",\"attributes\":{\"x\":{\"type\":\"field\",\"field\":\"x\"},\"y\":{\"type\":\"field\",\"field\":\"y\"},\"line_color\":{\"type\":\"value\",\"value\":\"#1f77b4\"},\"line_alpha\":{\"type\":\"value\",\"value\":0.2},\"line_width\":{\"type\":\"value\",\"value\":4},\"fill_color\":{\"type\":\"value\",\"value\":\"#1f77b4\"},\"fill_alpha\":{\"type\":\"value\",\"value\":0.2},\"hatch_alpha\":{\"type\":\"value\",\"value\":0.2}}}}}],\"toolbar\":{\"type\":\"object\",\"name\":\"Toolbar\",\"id\":\"p1183\",\"attributes\":{\"tools\":[{\"type\":\"object\",\"name\":\"PanTool\",\"id\":\"p1207\"},{\"type\":\"object\",\"name\":\"WheelZoomTool\",\"id\":\"p1208\"},{\"type\":\"object\",\"name\":\"BoxZoomTool\",\"id\":\"p1209\",\"attributes\":{\"overlay\":{\"type\":\"object\",\"name\":\"BoxAnnotation\",\"id\":\"p1210\",\"attributes\":{\"syncable\":false,\"level\":\"overlay\",\"visible\":false,\"left_units\":\"canvas\",\"right_units\":\"canvas\",\"bottom_units\":\"canvas\",\"top_units\":\"canvas\",\"line_color\":\"black\",\"line_alpha\":1.0,\"line_width\":2,\"line_dash\":[4,4],\"fill_color\":\"lightgrey\",\"fill_alpha\":0.5}}}},{\"type\":\"object\",\"name\":\"ResetTool\",\"id\":\"p1211\"},{\"type\":\"object\",\"name\":\"SaveTool\",\"id\":\"p1212\"}]}},\"left\":[{\"type\":\"object\",\"name\":\"LinearAxis\",\"id\":\"p1200\",\"attributes\":{\"ticker\":{\"type\":\"object\",\"name\":\"BasicTicker\",\"id\":\"p1203\",\"attributes\":{\"mantissas\":[1,2,5]}},\"formatter\":{\"type\":\"object\",\"name\":\"BasicTickFormatter\",\"id\":\"p1201\"},\"axis_label\":\"Error on Spectrum (PPM)\",\"major_label_policy\":{\"type\":\"object\",\"name\":\"AllLabels\",\"id\":\"p1202\"}}}],\"below\":[{\"type\":\"object\",\"name\":\"LinearAxis\",\"id\":\"p1193\",\"attributes\":{\"ticker\":{\"type\":\"object\",\"name\":\"BasicTicker\",\"id\":\"p1196\",\"attributes\":{\"mantissas\":[1,2,5]}},\"formatter\":{\"type\":\"object\",\"name\":\"BasicTickFormatter\",\"id\":\"p1194\"},\"axis_label\":\"Wavelength (micron)\",\"major_label_policy\":{\"type\":\"object\",\"name\":\"AllLabels\",\"id\":\"p1195\"}}}],\"center\":[{\"type\":\"object\",\"name\":\"Grid\",\"id\":\"p1199\",\"attributes\":{\"axis\":{\"id\":\"p1193\"}}},{\"type\":\"object\",\"name\":\"Grid\",\"id\":\"p1206\",\"attributes\":{\"dimension\":1,\"axis\":{\"id\":\"p1200\"}}}]}}]}};\n",
       "  const render_items = [{\"docid\":\"14b0e491-3b5a-41ba-9d3c-e26f39fe2fba\",\"roots\":{\"p1175\":\"3b4b030e-7abb-4460-9212-02a2b069cd7a\"},\"root_ids\":[\"p1175\"]}];\n",
       "  root.Bokeh.embed.embed_items_notebook(docs_json, render_items);\n",
       "  }\n",
       "  if (root.Bokeh !== undefined) {\n",
       "    embed_document(root);\n",
       "  } else {\n",
       "    let attempts = 0;\n",
       "    const timer = setInterval(function(root) {\n",
       "      if (root.Bokeh !== undefined) {\n",
       "        clearInterval(timer);\n",
       "        embed_document(root);\n",
       "      } else {\n",
       "        attempts++;\n",
       "        if (attempts > 100) {\n",
       "          clearInterval(timer);\n",
       "          console.log(\"Bokeh: ERROR: Unable to run BokehJS code because BokehJS library is missing\");\n",
       "        }\n",
       "      }\n",
       "    }, 10, root)\n",
       "  }\n",
       "})(window);"
      ],
      "application/vnd.bokehjs_exec.v0+json": ""
     },
     "metadata": {
      "application/vnd.bokehjs_exec.v0+json": {
       "id": "p1175"
      }
     },
     "output_type": "display_data"
    }
   ],
   "source": [
    "x,y = jpi.jwst_noise(out)"
   ]
  },
  {
   "cell_type": "code",
   "execution_count": null,
   "id": "9248cdcc-5913-49c2-8c41-06c72a756301",
   "metadata": {},
   "outputs": [],
   "source": []
  }
 ],
 "metadata": {
  "kernelspec": {
   "display_name": "Python 3 (ipykernel)",
   "language": "python",
   "name": "python3"
  },
  "language_info": {
   "codemirror_mode": {
    "name": "ipython",
    "version": 3
   },
   "file_extension": ".py",
   "mimetype": "text/x-python",
   "name": "python",
   "nbconvert_exporter": "python",
   "pygments_lexer": "ipython3",
   "version": "3.12.0"
  }
 },
 "nbformat": 4,
 "nbformat_minor": 5
}
