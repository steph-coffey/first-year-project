{
 "cells": [
  {
   "cell_type": "markdown",
   "id": "4f665ba4",
   "metadata": {},
   "source": [
    "## this notebook is for our \"hack\" of ExoTransmit\n",
    "\n",
    "**We're producing transit spectra for 2 different systems: HATS-6 b around the Sun, and an \"M-dwarf\" transiting the same Sun. We then multiply out the stellar radius in the transit spectra for each, so we can then divide the planet spectra by the M-dwarf spectra.**\n",
    "\n",
    "Notes: all the spectra with ExoTransmit are calculated on the exact same wavelength grid of $0.3 - 30 \\mu \\text{m}$, so I use the same wavelength variable throughout. Also, ExoTransmit outputs in percent, but I've converted to ppm where needed."
   ]
  },
  {
   "cell_type": "code",
   "execution_count": 1,
   "id": "ecea98a7",
   "metadata": {},
   "outputs": [],
   "source": [
    "import numpy as np\n",
    "import matplotlib.pyplot as plt\n",
    "\n",
    "from smoothing import adap_smooth # my function"
   ]
  },
  {
   "cell_type": "code",
   "execution_count": 2,
   "id": "8922aa18",
   "metadata": {},
   "outputs": [],
   "source": [
    "# Can be found in kipping/Exo_Transmit/Spectra\n",
    "# as of 19 Jan 2024\n",
    "spectra_path = '/Users/coffey/Downloads/kipping/Exo_Transmit/Spectra'"
   ]
  },
  {
   "cell_type": "markdown",
   "id": "e446009c",
   "metadata": {},
   "source": [
    "### M dwarf: HATS-6\n",
    "**T-P profile**                : 3000 K (actually 3700 K)  \n",
    "**EOS**                        : 1X_solar_gas  \n",
    "**Planet g (m/s^2)**           : 481.95  \n",
    "**Planet R (m)**               : 3.9655e+8  \n",
    "**Star R (m)**                 : 6.957e+8  \n",
    "**Pressure of cloud top (Pa)** : 0.0  \n",
    "**Rayleigh scattering factor** : 0.0\n",
    "\n",
    "**Chemistry** : VO, TiO, H2O, Na, K, CH4, CO2, CO, C2H2, C2H4, no collision induced, no scattering  \n",
    "\n",
    "These parameters were copied from the TRAPPIST-1 parameters (just for now)."
   ]
  },
  {
   "cell_type": "code",
   "execution_count": 3,
   "id": "99efc47f",
   "metadata": {},
   "outputs": [],
   "source": [
    "h6_spectrum = np.loadtxt(f'{spectra_path}/transmission_hats6.dat', skiprows = 2).T #full 0.3 - 30 um\n",
    "wave    = h6_spectrum[0][:2900] * 1e6 # microns\n",
    "h6_spec = h6_spectrum[1][:2900] / 100 # convert from %"
   ]
  },
  {
   "cell_type": "markdown",
   "id": "ceaf2aec",
   "metadata": {},
   "source": [
    "### HATS-6 b\n",
    "**T-P profile**                : 700 K  \n",
    "**EOS**                        : 1X_solar_gas  \n",
    "**Planet g (m/s^2)**           : 7.941  \n",
    "**Planet R (m)**               : 7.118e+6  \n",
    "**Star R (m)**                 : 6.957e+8  \n",
    "**Pressure of cloud top (Pa)** : 0.0  \n",
    "**Rayleigh scattering factor** : 0.0\n",
    "\n",
    "**Chemistry** : VO, TiO, H2O, Na, K, no collision induced, no scattering  \n",
    "\n",
    "These parameters were copied from the TRAPPIST-1 b parameters (just for now)."
   ]
  },
  {
   "cell_type": "code",
   "execution_count": 4,
   "id": "2e63bddd",
   "metadata": {},
   "outputs": [],
   "source": [
    "# using ExoTransmit\n",
    "h6b_spectrum = np.loadtxt(f'{spectra_path}/transmission_hats6b.dat', skiprows = 2).T\n",
    "h6b_spec     = h6b_spectrum[1][:2900] / 100 # convert from %"
   ]
  },
  {
   "cell_type": "code",
   "execution_count": 5,
   "id": "eb52a379",
   "metadata": {},
   "outputs": [],
   "source": [
    "# flat spectrum = no atmosphere\n",
    "Rs   = 6.957e8  # Sun\n",
    "Rh6b = 7.118e6  # HATS-6 b\n",
    "Rh6  = 8.2927e7 # HATS-6\n",
    "\n",
    "h6b_depth     = (Rh6b / Rs)**2\n",
    "flat_h6b_spec = np.repeat(h6b_depth, len(h6_spec))"
   ]
  },
  {
   "cell_type": "code",
   "execution_count": 6,
   "id": "a81d7cda-3c81-402f-afa9-cd63e0b945fd",
   "metadata": {},
   "outputs": [
    {
     "ename": "FileNotFoundError",
     "evalue": "/Users/coffey/Downloads/kipping/Exo_Transmit/Spectra/transmission_h6b_around_h6_noaerosols.dat not found.",
     "output_type": "error",
     "traceback": [
      "\u001b[0;31m---------------------------------------------------------------------------\u001b[0m",
      "\u001b[0;31mFileNotFoundError\u001b[0m                         Traceback (most recent call last)",
      "Cell \u001b[0;32mIn[6], line 2\u001b[0m\n\u001b[1;32m      1\u001b[0m \u001b[38;5;66;03m# for comparison, h6b around h6 w/ ExoTransmit\u001b[39;00m\n\u001b[0;32m----> 2\u001b[0m h6b_og_spectrum  \u001b[38;5;241m=\u001b[39m np\u001b[38;5;241m.\u001b[39mloadtxt(\u001b[38;5;124mf\u001b[39m\u001b[38;5;124m'\u001b[39m\u001b[38;5;132;01m{\u001b[39;00mspectra_path\u001b[38;5;132;01m}\u001b[39;00m\u001b[38;5;124m/transmission_h6b_around_h6_noaerosols.dat\u001b[39m\u001b[38;5;124m'\u001b[39m, skiprows \u001b[38;5;241m=\u001b[39m \u001b[38;5;241m2\u001b[39m)\u001b[38;5;241m.\u001b[39mT\n\u001b[1;32m      3\u001b[0m h6b_og_spec      \u001b[38;5;241m=\u001b[39m h6b_og_spectrum[\u001b[38;5;241m1\u001b[39m][:\u001b[38;5;241m2900\u001b[39m] \u001b[38;5;241m*\u001b[39m \u001b[38;5;241m1e4\u001b[39m\n",
      "File \u001b[0;32m~/anaconda3/lib/python3.11/site-packages/numpy/lib/npyio.py:1373\u001b[0m, in \u001b[0;36mloadtxt\u001b[0;34m(fname, dtype, comments, delimiter, converters, skiprows, usecols, unpack, ndmin, encoding, max_rows, quotechar, like)\u001b[0m\n\u001b[1;32m   1370\u001b[0m \u001b[38;5;28;01mif\u001b[39;00m \u001b[38;5;28misinstance\u001b[39m(delimiter, \u001b[38;5;28mbytes\u001b[39m):\n\u001b[1;32m   1371\u001b[0m     delimiter \u001b[38;5;241m=\u001b[39m delimiter\u001b[38;5;241m.\u001b[39mdecode(\u001b[38;5;124m'\u001b[39m\u001b[38;5;124mlatin1\u001b[39m\u001b[38;5;124m'\u001b[39m)\n\u001b[0;32m-> 1373\u001b[0m arr \u001b[38;5;241m=\u001b[39m _read(fname, dtype\u001b[38;5;241m=\u001b[39mdtype, comment\u001b[38;5;241m=\u001b[39mcomment, delimiter\u001b[38;5;241m=\u001b[39mdelimiter,\n\u001b[1;32m   1374\u001b[0m             converters\u001b[38;5;241m=\u001b[39mconverters, skiplines\u001b[38;5;241m=\u001b[39mskiprows, usecols\u001b[38;5;241m=\u001b[39musecols,\n\u001b[1;32m   1375\u001b[0m             unpack\u001b[38;5;241m=\u001b[39munpack, ndmin\u001b[38;5;241m=\u001b[39mndmin, encoding\u001b[38;5;241m=\u001b[39mencoding,\n\u001b[1;32m   1376\u001b[0m             max_rows\u001b[38;5;241m=\u001b[39mmax_rows, quote\u001b[38;5;241m=\u001b[39mquotechar)\n\u001b[1;32m   1378\u001b[0m \u001b[38;5;28;01mreturn\u001b[39;00m arr\n",
      "File \u001b[0;32m~/anaconda3/lib/python3.11/site-packages/numpy/lib/npyio.py:992\u001b[0m, in \u001b[0;36m_read\u001b[0;34m(fname, delimiter, comment, quote, imaginary_unit, usecols, skiplines, max_rows, converters, ndmin, unpack, dtype, encoding)\u001b[0m\n\u001b[1;32m    990\u001b[0m     fname \u001b[38;5;241m=\u001b[39m os\u001b[38;5;241m.\u001b[39mfspath(fname)\n\u001b[1;32m    991\u001b[0m \u001b[38;5;28;01mif\u001b[39;00m \u001b[38;5;28misinstance\u001b[39m(fname, \u001b[38;5;28mstr\u001b[39m):\n\u001b[0;32m--> 992\u001b[0m     fh \u001b[38;5;241m=\u001b[39m np\u001b[38;5;241m.\u001b[39mlib\u001b[38;5;241m.\u001b[39m_datasource\u001b[38;5;241m.\u001b[39mopen(fname, \u001b[38;5;124m'\u001b[39m\u001b[38;5;124mrt\u001b[39m\u001b[38;5;124m'\u001b[39m, encoding\u001b[38;5;241m=\u001b[39mencoding)\n\u001b[1;32m    993\u001b[0m     \u001b[38;5;28;01mif\u001b[39;00m encoding \u001b[38;5;129;01mis\u001b[39;00m \u001b[38;5;28;01mNone\u001b[39;00m:\n\u001b[1;32m    994\u001b[0m         encoding \u001b[38;5;241m=\u001b[39m \u001b[38;5;28mgetattr\u001b[39m(fh, \u001b[38;5;124m'\u001b[39m\u001b[38;5;124mencoding\u001b[39m\u001b[38;5;124m'\u001b[39m, \u001b[38;5;124m'\u001b[39m\u001b[38;5;124mlatin1\u001b[39m\u001b[38;5;124m'\u001b[39m)\n",
      "File \u001b[0;32m~/anaconda3/lib/python3.11/site-packages/numpy/lib/_datasource.py:193\u001b[0m, in \u001b[0;36mopen\u001b[0;34m(path, mode, destpath, encoding, newline)\u001b[0m\n\u001b[1;32m    156\u001b[0m \u001b[38;5;250m\u001b[39m\u001b[38;5;124;03m\"\"\"\u001b[39;00m\n\u001b[1;32m    157\u001b[0m \u001b[38;5;124;03mOpen `path` with `mode` and return the file object.\u001b[39;00m\n\u001b[1;32m    158\u001b[0m \n\u001b[0;32m   (...)\u001b[0m\n\u001b[1;32m    189\u001b[0m \n\u001b[1;32m    190\u001b[0m \u001b[38;5;124;03m\"\"\"\u001b[39;00m\n\u001b[1;32m    192\u001b[0m ds \u001b[38;5;241m=\u001b[39m DataSource(destpath)\n\u001b[0;32m--> 193\u001b[0m \u001b[38;5;28;01mreturn\u001b[39;00m ds\u001b[38;5;241m.\u001b[39mopen(path, mode, encoding\u001b[38;5;241m=\u001b[39mencoding, newline\u001b[38;5;241m=\u001b[39mnewline)\n",
      "File \u001b[0;32m~/anaconda3/lib/python3.11/site-packages/numpy/lib/_datasource.py:533\u001b[0m, in \u001b[0;36mDataSource.open\u001b[0;34m(self, path, mode, encoding, newline)\u001b[0m\n\u001b[1;32m    530\u001b[0m     \u001b[38;5;28;01mreturn\u001b[39;00m _file_openers[ext](found, mode\u001b[38;5;241m=\u001b[39mmode,\n\u001b[1;32m    531\u001b[0m                               encoding\u001b[38;5;241m=\u001b[39mencoding, newline\u001b[38;5;241m=\u001b[39mnewline)\n\u001b[1;32m    532\u001b[0m \u001b[38;5;28;01melse\u001b[39;00m:\n\u001b[0;32m--> 533\u001b[0m     \u001b[38;5;28;01mraise\u001b[39;00m \u001b[38;5;167;01mFileNotFoundError\u001b[39;00m(\u001b[38;5;124mf\u001b[39m\u001b[38;5;124m\"\u001b[39m\u001b[38;5;132;01m{\u001b[39;00mpath\u001b[38;5;132;01m}\u001b[39;00m\u001b[38;5;124m not found.\u001b[39m\u001b[38;5;124m\"\u001b[39m)\n",
      "\u001b[0;31mFileNotFoundError\u001b[0m: /Users/coffey/Downloads/kipping/Exo_Transmit/Spectra/transmission_h6b_around_h6_noaerosols.dat not found."
     ]
    }
   ],
   "source": [
    "# for comparison, h6b around h6 w/ ExoTransmit\n",
    "h6b_og_spectrum  = np.loadtxt(f'{spectra_path}/transmission_h6b_around_h6_noaerosols.dat', skiprows = 2).T\n",
    "h6b_og_spec      = h6b_og_spectrum[1][:2900] * 1e4"
   ]
  },
  {
   "cell_type": "code",
   "execution_count": null,
   "id": "14ee6e9d",
   "metadata": {},
   "outputs": [],
   "source": [
    "# for plotting (dotted line)\n",
    "h6bh6_fixed_depth = (Rh6b/Rh6)**2 * 1e6 # fixed transit depth of h6b around h6"
   ]
  },
  {
   "cell_type": "markdown",
   "id": "ff2d3689",
   "metadata": {},
   "source": [
    "### Hacking time"
   ]
  },
  {
   "cell_type": "code",
   "execution_count": null,
   "id": "4feab64d",
   "metadata": {},
   "outputs": [],
   "source": [
    "# Multiplying out the Sun's radius\n",
    "h6b_spec_noRs      = np.sqrt(h6b_spec) * Rs\n",
    "h6_spec_noRs       = np.sqrt(h6_spec) * Rs\n",
    "flat_h6b_spec_noRs = np.sqrt(flat_h6b_spec) * Rs"
   ]
  },
  {
   "cell_type": "code",
   "execution_count": null,
   "id": "73fa815e",
   "metadata": {},
   "outputs": [],
   "source": [
    "# combining the spectra for our new (Rp/Rs)^2\n",
    "hacked_spec      = (h6b_spec_noRs / h6_spec_noRs)**2 * 1e6      # ppm\n",
    "flat_hacked_spec = (flat_h6b_spec_noRs / h6_spec_noRs)**2 * 1e6 # ppm"
   ]
  },
  {
   "cell_type": "code",
   "execution_count": null,
   "id": "c56316f2",
   "metadata": {},
   "outputs": [],
   "source": [
    "# smoothing to JWST resolution (R ~ 100 for prism)\n",
    "smooth_hacked_spec = adap_smooth(wave, hacked_spec, R = 100)\n",
    "smooth_flat_hacked_spec = adap_smooth(wave, flat_hacked_spec, R = 100)\n",
    "\n",
    "smooth_h6b_spec = adap_smooth(wave, h6b_spec, R = 100)\n",
    "smooth_h6_spec = adap_smooth(wave, h6_spec, R = 100)\n",
    "smooth_og_spec = adap_smooth(wave, h6b_og_spec, R = 100)\n"
   ]
  },
  {
   "cell_type": "code",
   "execution_count": null,
   "id": "d9eed1f6",
   "metadata": {
    "scrolled": false
   },
   "outputs": [],
   "source": [
    "# added a couple invisible axis elements to give space b/w last two plots while \n",
    "# closing the space between the first two\n",
    "fig, axs = plt.subplots(6, 1, figsize = (9,12), height_ratios = [1,1,0.2,1,0.1,1], sharex = True)\n",
    "fig.subplots_adjust(hspace = 0)\n",
    "\n",
    "# Spectra\n",
    "axs[0].plot(wave, smooth_og_spec, c = 'red')\n",
    "axs[0].plot(wave, smooth_hacked_spec, c = 'blue')\n",
    "axs[1].plot(wave, smooth_flat_hacked_spec, c = 'seagreen')\n",
    "axs[3].plot(wave, np.array(smooth_h6b_spec) * 1e6, c = 'black')\n",
    "axs[5].plot(wave, np.array(smooth_h6_spec) * 1e6, c = 'black')\n",
    "fig.legend(['orig', 'hack', 'flat hack'], loc = (0.805,0.865))\n",
    "\n",
    "# Broken axis\n",
    "axs[0].set_ylim(h6bh6_fixed_depth, None)\n",
    "axs[1].set_ylim(None, h6bh6_fixed_depth)\n",
    "axs[0].spines.bottom.set_visible(False)\n",
    "axs[1].spines.top.set_visible(False)\n",
    "axs[0].xaxis.tick_top()\n",
    "axs[1].tick_params(labeltop=True)  # don't put tick labels at the top\n",
    "axs[1].xaxis.tick_bottom()\n",
    "axs[1].xaxis.grid(True, which='minor')\n",
    "axs[2].set_visible(False)\n",
    "axs[4].set_visible(False)\n",
    "\n",
    "# Slanted lines\n",
    "d = .5  # proportion of vertical to horizontal extent of the slanted line\n",
    "kwargs = dict(marker=[(-1, -d), (1, d)], ms=12,ls=\"none\", c='k', mec='k', mew=1, clip_on=False)\n",
    "axs[0].plot([0, 1], [0, 0], transform=axs[0].transAxes, **kwargs)\n",
    "axs[1].plot([0, 1], [1, 1], transform=axs[1].transAxes, **kwargs)\n",
    "\n",
    "# Plotting fixed transit depth to compare\n",
    "axs[0].axhline(y = h6bh6_fixed_depth, c = 'black', ls = 'dotted', lw = 3.5)\n",
    "\n",
    "# Labels\n",
    "fig.suptitle('HATS-6 b orbiting HATS-6', y = 0.915)\n",
    "fig.text(0.04, 0.7, 'Transit depth (ppm)', va='center', rotation='vertical')\n",
    "fig.text(0.65, 0.45, r'$(R_{h6b}/R_{\\odot})^2$', fontsize = 14, bbox=dict(boxstyle='round',ec=(1., 0.5, 0.5),fc=(1., 0.8, 0.8),))\n",
    "fig.text(0.65, 0.25, r'$(R_{h6}/R_{\\odot})^2$', fontsize = 14, bbox=dict(boxstyle='round',ec=(1., 0.5, 0.5),fc=(1., 0.8, 0.8),))\n",
    "axs[5].set_xlabel('Wavelength (microns)')"
   ]
  },
  {
   "cell_type": "markdown",
   "id": "67d1c910",
   "metadata": {},
   "source": [
    "## For pandexo, let's smooth the spectrum to the smallest resolution possible while still capturing the main features"
   ]
  },
  {
   "cell_type": "code",
   "execution_count": null,
   "id": "73e9eb68",
   "metadata": {},
   "outputs": [],
   "source": [
    "supersmooth_hacked_spec = adap_smooth(wave, hacked_spec, R = 25)\n",
    "supersmooth_flat_hacked_spec = adap_smooth(wave, flat_hacked_spec, R = 25)"
   ]
  },
  {
   "cell_type": "code",
   "execution_count": null,
   "id": "8bbe851b",
   "metadata": {},
   "outputs": [],
   "source": [
    "# added a couple invisible axis elements to give space b/w last two plots while \n",
    "# closing the space between the first two\n",
    "fig, axs = plt.subplots(2, 1, figsize = (9,6), height_ratios = [1,1], sharex = True)\n",
    "fig.subplots_adjust(hspace = 0)\n",
    "\n",
    "# Spectra\n",
    "axs[0].plot(wave, smooth_hacked_spec, c = 'royalblue', alpha = 0.5, label = '_nolegend_')\n",
    "axs[1].plot(wave, smooth_flat_hacked_spec, c = 'seagreen', alpha = 0.5, label = '_nolegend_')\n",
    "axs[0].plot(wave, supersmooth_hacked_spec, c = 'royalblue')\n",
    "axs[1].plot(wave, supersmooth_flat_hacked_spec, c = 'seagreen')\n",
    "fig.legend(['hack','flat hack'], loc = (0.805,0.8))\n",
    "\n",
    "# Broken axis\n",
    "axs[0].set_ylim(h6bh6_fixed_depth, None)\n",
    "axs[1].set_ylim(None, h6bh6_fixed_depth)\n",
    "axs[0].spines.bottom.set_visible(False)\n",
    "axs[1].spines.top.set_visible(False)\n",
    "axs[0].xaxis.tick_top()\n",
    "axs[1].tick_params(labeltop=True)  # don't put tick labels at the top\n",
    "axs[1].xaxis.tick_bottom()\n",
    "axs[1].xaxis.grid(True, which='minor')\n",
    "\n",
    "# Slanted lines\n",
    "d = .5  # proportion of vertical to horizontal extent of the slanted line\n",
    "kwargs = dict(marker=[(-1, -d), (1, d)], ms=12,ls=\"none\", c='k', mec='k', mew=1, clip_on=False)\n",
    "axs[0].plot([0, 1], [0, 0], transform=axs[0].transAxes, **kwargs)\n",
    "axs[1].plot([0, 1], [1, 1], transform=axs[1].transAxes, **kwargs)\n",
    "\n",
    "# Plotting fixed transit depth to compare\n",
    "axs[0].axhline(y = h6bh6_fixed_depth, c = 'black', ls = 'dotted', lw = 3.5)\n",
    "\n",
    "# Labels\n",
    "fig.suptitle('Super smooth', y = 0.915)\n",
    "fig.text(0.04, 0.7, 'Transit depth (ppm)', va='center', rotation='vertical')\n",
    "axs[1].set_xlabel('Wavelength (microns)')"
   ]
  },
  {
   "cell_type": "markdown",
   "id": "a5ab4ed0-5069-42e1-b443-7d8c1f579cfb",
   "metadata": {},
   "source": [
    "## Write it to a text file"
   ]
  },
  {
   "cell_type": "markdown",
   "id": "bfb94ad2",
   "metadata": {},
   "source": [
    "**Pandexo wants $(R_{p}/R_{s})^2$ in decimal units (NOT PPM). I'll give Pandexo the unsmoothed spectrum and will bin after, per their recommendation.**"
   ]
  },
  {
   "cell_type": "code",
   "execution_count": null,
   "id": "9b0e7cc4-414a-47f5-895a-9723f6c920b5",
   "metadata": {},
   "outputs": [],
   "source": [
    "# Saving the array in a text file\n",
    "pandexo_hacked_spec = np.array(hacked_spec) / 1e6\n",
    "pandexo_flat_hacked_spec = np.array(flat_hacked_spec) / 1e6\n",
    "\n",
    "hats6_hacked_spectrum = np.column_stack((wave, pandexo_hacked_spec))\n",
    "np.savetxt(\"./pandexo_input_spectra/hats6_hacked_spectrum.txt\", hats_hacked_spectrum)\n",
    "\n",
    "flat_hats6_hacked_spectrum = np.column_stack((wave, pandexo_flat_hacked_spec))\n",
    "np.savetxt(\"./pandexo_input_spectra/flat_hats6_hacked_spectrum.txt\", flat_hats_hacked_spectrum)"
   ]
  },
  {
   "cell_type": "markdown",
   "id": "9f82e832",
   "metadata": {},
   "source": [
    "## Adding on the pandexo errors\n",
    "**The files are in the format x,y,err and the y and errors are already in ppm**"
   ]
  },
  {
   "cell_type": "code",
   "execution_count": null,
   "id": "93834066",
   "metadata": {},
   "outputs": [],
   "source": [
    "pandexo_errs = np.loadtxt('./pandexo_output/pandexo_errs_25.txt').T"
   ]
  },
  {
   "cell_type": "code",
   "execution_count": null,
   "id": "6a77bc33",
   "metadata": {},
   "outputs": [],
   "source": [
    "fig, axs = plt.subplots(2, 1, figsize = (9,6), sharex = True)\n",
    "fig.subplots_adjust(hspace = 0.1)\n",
    "axs[1].set_xlim(0.75, 5.3)\n",
    "axs[0].set_ylim(6000,9000)\n",
    "axs[1].set_ylim(7000,7700)\n",
    "\n",
    "# Spectra\n",
    "axs[0].plot(wave, smooth_hacked_spec, c = 'royalblue', alpha = 0.5)\n",
    "axs[1].plot(wave, smooth_flat_hacked_spec, c = 'seagreen', alpha = 0.5)\n",
    "axs[0].errorbar(pandexo_errs[0], pandexo_errs[1], pandexo_errs[2], fmt = '.', c = 'royalblue')\n",
    "axs[1].errorbar(pandexo_errs[0], pandexo_errs[1], pandexo_errs[2], fmt = '.', c = 'seagreen')\n",
    "\n",
    "\n",
    "# Plotting fixed transit depth to compare\n",
    "axs[0].axhline(y = h6bh6_fixed_depth, c = 'black', ls = 'dotted', lw = 2, label = '_nolegend_')\n",
    "\n",
    "# Labels\n",
    "fig.legend(['hack','pandexo', 'flat hack', 'pandexo'], loc = (0.775,0.75))\n",
    "fig.suptitle('HATS-6 b orbiting HATS-6 (w/ Pandexo errors)', y = 0.915)\n",
    "fig.text(0.04, 0.5, 'Transit depth (ppm)', va='center', rotation='vertical')\n",
    "axs[1].set_xlabel('Wavelength (microns)')"
   ]
  },
  {
   "cell_type": "code",
   "execution_count": null,
   "id": "80e081ff",
   "metadata": {},
   "outputs": [],
   "source": [
    "print(f'Median error for pandexo w/ hacked spectrum: {np.median(pandexo_errs[2]):.3f} ppm')"
   ]
  },
  {
   "cell_type": "code",
   "execution_count": null,
   "id": "2f8bacb8",
   "metadata": {},
   "outputs": [],
   "source": []
  }
 ],
 "metadata": {
  "kernelspec": {
   "display_name": "Python 3 (ipykernel)",
   "language": "python",
   "name": "python3"
  },
  "language_info": {
   "codemirror_mode": {
    "name": "ipython",
    "version": 3
   },
   "file_extension": ".py",
   "mimetype": "text/x-python",
   "name": "python",
   "nbconvert_exporter": "python",
   "pygments_lexer": "ipython3",
   "version": "3.11.5"
  }
 },
 "nbformat": 4,
 "nbformat_minor": 5
}
